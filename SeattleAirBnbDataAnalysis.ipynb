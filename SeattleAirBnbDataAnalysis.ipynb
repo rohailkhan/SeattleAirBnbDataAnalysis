{
 "cells": [
  {
   "source": [
    "# Data Analysis of Airbnb hosts in Seattle\n",
    "As more travellers choose Airbnb as their primary lodging provider, Airbnb has successfully disrupted the traditional hospitality industry. Since its founding in 2008, Airbnb has experienced exponential growth, with the number of rentals listed on its website increasing at an exponential rate each year.\n",
    "\n",
    "Since 2008, guests and hosts have used Airbnb to travel in a more unique, personalized way. As part of the Airbnb Inside initiative, this dataset describes the listing activity of homestays in Seattle, WA.\n",
    "\n",
    "### Content\n",
    "The following Airbnb activity is included in this Seattle dataset:\n",
    "\n",
    "Listings, including full descriptions and average review score\n",
    "Reviews, including unique id for each reviewer and detailed comments\n",
    "Calendar, including listing id and the price and availability for that day\n"
   ],
   "cell_type": "markdown",
   "metadata": {}
  },
  {
   "source": [
    "<img src=\"future.jpg\" width=900 height=300 />"
   ],
   "cell_type": "markdown",
   "metadata": {}
  },
  {
   "cell_type": "code",
   "execution_count": 1,
   "metadata": {},
   "outputs": [],
   "source": [
    "import numpy as np\n",
    "import pandas as pd\n",
    "import matplotlib.pyplot as plt\n",
    "from sklearn.linear_model import LinearRegression\n",
    "from sklearn.model_selection import train_test_split\n",
    "from sklearn.metrics import r2_score, mean_squared_error\n",
    "#import test1 as t\n",
    "import seaborn as sns\n",
    "%matplotlib inline\n"
   ]
  },
  {
   "cell_type": "code",
   "execution_count": 12,
   "metadata": {},
   "outputs": [],
   "source": [
    "pd.set_option(\"display.max_columns\", None)"
   ]
  },
  {
   "cell_type": "code",
   "execution_count": 5,
   "metadata": {},
   "outputs": [
    {
     "data": {
      "text/plain": [
       "['calendar.csv',\n",
       " 'listings.csv',\n",
       " 'reviews.csv',\n",
       " 'Seattle Airbnb Data Analysis.ipynb']"
      ]
     },
     "execution_count": 5,
     "metadata": {},
     "output_type": "execute_result"
    }
   ],
   "source": [
    "import os\n",
    "os.listdir()"
   ]
  },
  {
   "cell_type": "code",
   "execution_count": 38,
   "metadata": {},
   "outputs": [],
   "source": [
    "calendar=pd.read_csv('calendar.csv')\n",
    "listings=pd.read_csv('listings.csv')\n",
    "reviews=pd.read_csv('reviews.csv')"
   ]
  },
  {
   "cell_type": "markdown",
   "metadata": {},
   "source": [
    "## Step-1 Taking a look at the data"
   ]
  },
  {
   "cell_type": "code",
   "execution_count": 5,
   "metadata": {
    "collapsed": true
   },
   "outputs": [
    {
     "output_type": "execute_result",
     "data": {
      "text/plain": [
       "((1393570, 4), (3818, 92), (84849, 6))"
      ]
     },
     "metadata": {},
     "execution_count": 5
    }
   ],
   "source": [
    "calendar.shape, listings.shape,reviews.shape"
   ]
  },
  {
   "cell_type": "code",
   "execution_count": 6,
   "metadata": {},
   "outputs": [
    {
     "output_type": "execute_result",
     "data": {
      "text/plain": [
       "   listing_id        date available   price\n",
       "0      241032  2016-01-04         t  $85.00\n",
       "1      241032  2016-01-05         t  $85.00"
      ],
      "text/html": "<div>\n<style scoped>\n    .dataframe tbody tr th:only-of-type {\n        vertical-align: middle;\n    }\n\n    .dataframe tbody tr th {\n        vertical-align: top;\n    }\n\n    .dataframe thead th {\n        text-align: right;\n    }\n</style>\n<table border=\"1\" class=\"dataframe\">\n  <thead>\n    <tr style=\"text-align: right;\">\n      <th></th>\n      <th>listing_id</th>\n      <th>date</th>\n      <th>available</th>\n      <th>price</th>\n    </tr>\n  </thead>\n  <tbody>\n    <tr>\n      <th>0</th>\n      <td>241032</td>\n      <td>2016-01-04</td>\n      <td>t</td>\n      <td>$85.00</td>\n    </tr>\n    <tr>\n      <th>1</th>\n      <td>241032</td>\n      <td>2016-01-05</td>\n      <td>t</td>\n      <td>$85.00</td>\n    </tr>\n  </tbody>\n</table>\n</div>"
     },
     "metadata": {},
     "execution_count": 6
    }
   ],
   "source": [
    "calendar.head(2)"
   ]
  },
  {
   "cell_type": "code",
   "execution_count": 7,
   "metadata": {},
   "outputs": [
    {
     "output_type": "execute_result",
     "data": {
      "text/plain": [
       "   listing_id        id        date  reviewer_id reviewer_name  \\\n",
       "0     7202016  38917982  2015-07-19     28943674        Bianca   \n",
       "1     7202016  39087409  2015-07-20     32440555         Frank   \n",
       "\n",
       "                                            comments  \n",
       "0  Cute and cozy place. Perfect location to every...  \n",
       "1  Kelly has a great room in a very central locat...  "
      ],
      "text/html": "<div>\n<style scoped>\n    .dataframe tbody tr th:only-of-type {\n        vertical-align: middle;\n    }\n\n    .dataframe tbody tr th {\n        vertical-align: top;\n    }\n\n    .dataframe thead th {\n        text-align: right;\n    }\n</style>\n<table border=\"1\" class=\"dataframe\">\n  <thead>\n    <tr style=\"text-align: right;\">\n      <th></th>\n      <th>listing_id</th>\n      <th>id</th>\n      <th>date</th>\n      <th>reviewer_id</th>\n      <th>reviewer_name</th>\n      <th>comments</th>\n    </tr>\n  </thead>\n  <tbody>\n    <tr>\n      <th>0</th>\n      <td>7202016</td>\n      <td>38917982</td>\n      <td>2015-07-19</td>\n      <td>28943674</td>\n      <td>Bianca</td>\n      <td>Cute and cozy place. Perfect location to every...</td>\n    </tr>\n    <tr>\n      <th>1</th>\n      <td>7202016</td>\n      <td>39087409</td>\n      <td>2015-07-20</td>\n      <td>32440555</td>\n      <td>Frank</td>\n      <td>Kelly has a great room in a very central locat...</td>\n    </tr>\n  </tbody>\n</table>\n</div>"
     },
     "metadata": {},
     "execution_count": 7
    }
   ],
   "source": [
    "reviews.head(2)"
   ]
  },
  {
   "cell_type": "code",
   "execution_count": 8,
   "metadata": {},
   "outputs": [
    {
     "output_type": "execute_result",
     "data": {
      "text/plain": [
       "       id                          listing_url       scrape_id last_scraped  \\\n",
       "0  241032  https://www.airbnb.com/rooms/241032  20160104002432   2016-01-04   \n",
       "1  953595  https://www.airbnb.com/rooms/953595  20160104002432   2016-01-04   \n",
       "\n",
       "                                 name  \\\n",
       "0        Stylish Queen Anne Apartment   \n",
       "1  Bright & Airy Queen Anne Apartment   \n",
       "\n",
       "                                             summary  \\\n",
       "0                                                NaN   \n",
       "1  Chemically sensitive? We've removed the irrita...   \n",
       "\n",
       "                                               space  \\\n",
       "0  Make your self at home in this charming one-be...   \n",
       "1  Beautiful, hypoallergenic apartment in an extr...   \n",
       "\n",
       "                                         description experiences_offered  \\\n",
       "0  Make your self at home in this charming one-be...                none   \n",
       "1  Chemically sensitive? We've removed the irrita...                none   \n",
       "\n",
       "                               neighborhood_overview  \\\n",
       "0                                                NaN   \n",
       "1  Queen Anne is a wonderful, truly functional vi...   \n",
       "\n",
       "                                               notes  \\\n",
       "0                                                NaN   \n",
       "1  What's up with the free pillows?  Our home was...   \n",
       "\n",
       "                                             transit  \\\n",
       "0                                                NaN   \n",
       "1  Convenient bus stops are just down the block, ...   \n",
       "\n",
       "                                       thumbnail_url  \\\n",
       "0                                                NaN   \n",
       "1  https://a0.muscache.com/ac/pictures/14409893/f...   \n",
       "\n",
       "                                          medium_url  \\\n",
       "0                                                NaN   \n",
       "1  https://a0.muscache.com/im/pictures/14409893/f...   \n",
       "\n",
       "                                         picture_url  \\\n",
       "0  https://a1.muscache.com/ac/pictures/67560560/c...   \n",
       "1  https://a0.muscache.com/ac/pictures/14409893/f...   \n",
       "\n",
       "                                      xl_picture_url  host_id  \\\n",
       "0                                                NaN   956883   \n",
       "1  https://a0.muscache.com/ac/pictures/14409893/f...  5177328   \n",
       "\n",
       "                                    host_url host_name  host_since  \\\n",
       "0   https://www.airbnb.com/users/show/956883     Maija  2011-08-11   \n",
       "1  https://www.airbnb.com/users/show/5177328    Andrea  2013-02-21   \n",
       "\n",
       "                        host_location  \\\n",
       "0  Seattle, Washington, United States   \n",
       "1  Seattle, Washington, United States   \n",
       "\n",
       "                                          host_about  host_response_time  \\\n",
       "0  I am an artist, interior designer, and run a s...  within a few hours   \n",
       "1  Living east coast/left coast/overseas.  Time i...      within an hour   \n",
       "\n",
       "  host_response_rate host_acceptance_rate host_is_superhost  \\\n",
       "0                96%                 100%                 f   \n",
       "1                98%                 100%                 t   \n",
       "\n",
       "                                  host_thumbnail_url  \\\n",
       "0  https://a0.muscache.com/ac/users/956883/profil...   \n",
       "1  https://a0.muscache.com/ac/users/5177328/profi...   \n",
       "\n",
       "                                    host_picture_url host_neighbourhood  \\\n",
       "0  https://a0.muscache.com/ac/users/956883/profil...         Queen Anne   \n",
       "1  https://a0.muscache.com/ac/users/5177328/profi...         Queen Anne   \n",
       "\n",
       "   host_listings_count  host_total_listings_count  \\\n",
       "0                  3.0                        3.0   \n",
       "1                  6.0                        6.0   \n",
       "\n",
       "                                  host_verifications host_has_profile_pic  \\\n",
       "0               ['email', 'phone', 'reviews', 'kba']                    t   \n",
       "1  ['email', 'phone', 'facebook', 'linkedin', 're...                    t   \n",
       "\n",
       "  host_identity_verified                                             street  \\\n",
       "0                      t      Gilman Dr W, Seattle, WA 98119, United States   \n",
       "1                      t  7th Avenue West, Seattle, WA 98119, United States   \n",
       "\n",
       "  neighbourhood neighbourhood_cleansed neighbourhood_group_cleansed     city  \\\n",
       "0    Queen Anne        West Queen Anne                   Queen Anne  Seattle   \n",
       "1    Queen Anne        West Queen Anne                   Queen Anne  Seattle   \n",
       "\n",
       "  state zipcode   market smart_location country_code        country  \\\n",
       "0    WA   98119  Seattle    Seattle, WA           US  United States   \n",
       "1    WA   98119  Seattle    Seattle, WA           US  United States   \n",
       "\n",
       "    latitude   longitude is_location_exact property_type        room_type  \\\n",
       "0  47.636289 -122.371025                 t     Apartment  Entire home/apt   \n",
       "1  47.639123 -122.365666                 t     Apartment  Entire home/apt   \n",
       "\n",
       "   accommodates  bathrooms  bedrooms  beds  bed_type  \\\n",
       "0             4        1.0       1.0   1.0  Real Bed   \n",
       "1             4        1.0       1.0   1.0  Real Bed   \n",
       "\n",
       "                                           amenities  square_feet    price  \\\n",
       "0  {TV,\"Cable TV\",Internet,\"Wireless Internet\",\"A...          NaN   $85.00   \n",
       "1  {TV,Internet,\"Wireless Internet\",Kitchen,\"Free...          NaN  $150.00   \n",
       "\n",
       "  weekly_price monthly_price security_deposit cleaning_fee  guests_included  \\\n",
       "0          NaN           NaN              NaN          NaN                2   \n",
       "1    $1,000.00     $3,000.00          $100.00       $40.00                1   \n",
       "\n",
       "  extra_people  minimum_nights  maximum_nights calendar_updated  \\\n",
       "0        $5.00               1             365      4 weeks ago   \n",
       "1        $0.00               2              90            today   \n",
       "\n",
       "  has_availability  availability_30  availability_60  availability_90  \\\n",
       "0                t               14               41               71   \n",
       "1                t               13               13               16   \n",
       "\n",
       "   availability_365 calendar_last_scraped  number_of_reviews first_review  \\\n",
       "0               346            2016-01-04                207   2011-11-01   \n",
       "1               291            2016-01-04                 43   2013-08-19   \n",
       "\n",
       "  last_review  review_scores_rating  review_scores_accuracy  \\\n",
       "0  2016-01-02                  95.0                    10.0   \n",
       "1  2015-12-29                  96.0                    10.0   \n",
       "\n",
       "   review_scores_cleanliness  review_scores_checkin  \\\n",
       "0                       10.0                   10.0   \n",
       "1                       10.0                   10.0   \n",
       "\n",
       "   review_scores_communication  review_scores_location  review_scores_value  \\\n",
       "0                         10.0                     9.0                 10.0   \n",
       "1                         10.0                    10.0                 10.0   \n",
       "\n",
       "  requires_license  license jurisdiction_names instant_bookable  \\\n",
       "0                f      NaN         WASHINGTON                f   \n",
       "1                f      NaN         WASHINGTON                f   \n",
       "\n",
       "  cancellation_policy require_guest_profile_picture  \\\n",
       "0            moderate                             f   \n",
       "1              strict                             t   \n",
       "\n",
       "  require_guest_phone_verification  calculated_host_listings_count  \\\n",
       "0                                f                               2   \n",
       "1                                t                               6   \n",
       "\n",
       "   reviews_per_month  \n",
       "0               4.07  \n",
       "1               1.48  "
      ],
      "text/html": "<div>\n<style scoped>\n    .dataframe tbody tr th:only-of-type {\n        vertical-align: middle;\n    }\n\n    .dataframe tbody tr th {\n        vertical-align: top;\n    }\n\n    .dataframe thead th {\n        text-align: right;\n    }\n</style>\n<table border=\"1\" class=\"dataframe\">\n  <thead>\n    <tr style=\"text-align: right;\">\n      <th></th>\n      <th>id</th>\n      <th>listing_url</th>\n      <th>scrape_id</th>\n      <th>last_scraped</th>\n      <th>name</th>\n      <th>summary</th>\n      <th>space</th>\n      <th>description</th>\n      <th>experiences_offered</th>\n      <th>neighborhood_overview</th>\n      <th>notes</th>\n      <th>transit</th>\n      <th>thumbnail_url</th>\n      <th>medium_url</th>\n      <th>picture_url</th>\n      <th>xl_picture_url</th>\n      <th>host_id</th>\n      <th>host_url</th>\n      <th>host_name</th>\n      <th>host_since</th>\n      <th>host_location</th>\n      <th>host_about</th>\n      <th>host_response_time</th>\n      <th>host_response_rate</th>\n      <th>host_acceptance_rate</th>\n      <th>host_is_superhost</th>\n      <th>host_thumbnail_url</th>\n      <th>host_picture_url</th>\n      <th>host_neighbourhood</th>\n      <th>host_listings_count</th>\n      <th>host_total_listings_count</th>\n      <th>host_verifications</th>\n      <th>host_has_profile_pic</th>\n      <th>host_identity_verified</th>\n      <th>street</th>\n      <th>neighbourhood</th>\n      <th>neighbourhood_cleansed</th>\n      <th>neighbourhood_group_cleansed</th>\n      <th>city</th>\n      <th>state</th>\n      <th>zipcode</th>\n      <th>market</th>\n      <th>smart_location</th>\n      <th>country_code</th>\n      <th>country</th>\n      <th>latitude</th>\n      <th>longitude</th>\n      <th>is_location_exact</th>\n      <th>property_type</th>\n      <th>room_type</th>\n      <th>accommodates</th>\n      <th>bathrooms</th>\n      <th>bedrooms</th>\n      <th>beds</th>\n      <th>bed_type</th>\n      <th>amenities</th>\n      <th>square_feet</th>\n      <th>price</th>\n      <th>weekly_price</th>\n      <th>monthly_price</th>\n      <th>security_deposit</th>\n      <th>cleaning_fee</th>\n      <th>guests_included</th>\n      <th>extra_people</th>\n      <th>minimum_nights</th>\n      <th>maximum_nights</th>\n      <th>calendar_updated</th>\n      <th>has_availability</th>\n      <th>availability_30</th>\n      <th>availability_60</th>\n      <th>availability_90</th>\n      <th>availability_365</th>\n      <th>calendar_last_scraped</th>\n      <th>number_of_reviews</th>\n      <th>first_review</th>\n      <th>last_review</th>\n      <th>review_scores_rating</th>\n      <th>review_scores_accuracy</th>\n      <th>review_scores_cleanliness</th>\n      <th>review_scores_checkin</th>\n      <th>review_scores_communication</th>\n      <th>review_scores_location</th>\n      <th>review_scores_value</th>\n      <th>requires_license</th>\n      <th>license</th>\n      <th>jurisdiction_names</th>\n      <th>instant_bookable</th>\n      <th>cancellation_policy</th>\n      <th>require_guest_profile_picture</th>\n      <th>require_guest_phone_verification</th>\n      <th>calculated_host_listings_count</th>\n      <th>reviews_per_month</th>\n    </tr>\n  </thead>\n  <tbody>\n    <tr>\n      <th>0</th>\n      <td>241032</td>\n      <td>https://www.airbnb.com/rooms/241032</td>\n      <td>20160104002432</td>\n      <td>2016-01-04</td>\n      <td>Stylish Queen Anne Apartment</td>\n      <td>NaN</td>\n      <td>Make your self at home in this charming one-be...</td>\n      <td>Make your self at home in this charming one-be...</td>\n      <td>none</td>\n      <td>NaN</td>\n      <td>NaN</td>\n      <td>NaN</td>\n      <td>NaN</td>\n      <td>NaN</td>\n      <td>https://a1.muscache.com/ac/pictures/67560560/c...</td>\n      <td>NaN</td>\n      <td>956883</td>\n      <td>https://www.airbnb.com/users/show/956883</td>\n      <td>Maija</td>\n      <td>2011-08-11</td>\n      <td>Seattle, Washington, United States</td>\n      <td>I am an artist, interior designer, and run a s...</td>\n      <td>within a few hours</td>\n      <td>96%</td>\n      <td>100%</td>\n      <td>f</td>\n      <td>https://a0.muscache.com/ac/users/956883/profil...</td>\n      <td>https://a0.muscache.com/ac/users/956883/profil...</td>\n      <td>Queen Anne</td>\n      <td>3.0</td>\n      <td>3.0</td>\n      <td>['email', 'phone', 'reviews', 'kba']</td>\n      <td>t</td>\n      <td>t</td>\n      <td>Gilman Dr W, Seattle, WA 98119, United States</td>\n      <td>Queen Anne</td>\n      <td>West Queen Anne</td>\n      <td>Queen Anne</td>\n      <td>Seattle</td>\n      <td>WA</td>\n      <td>98119</td>\n      <td>Seattle</td>\n      <td>Seattle, WA</td>\n      <td>US</td>\n      <td>United States</td>\n      <td>47.636289</td>\n      <td>-122.371025</td>\n      <td>t</td>\n      <td>Apartment</td>\n      <td>Entire home/apt</td>\n      <td>4</td>\n      <td>1.0</td>\n      <td>1.0</td>\n      <td>1.0</td>\n      <td>Real Bed</td>\n      <td>{TV,\"Cable TV\",Internet,\"Wireless Internet\",\"A...</td>\n      <td>NaN</td>\n      <td>$85.00</td>\n      <td>NaN</td>\n      <td>NaN</td>\n      <td>NaN</td>\n      <td>NaN</td>\n      <td>2</td>\n      <td>$5.00</td>\n      <td>1</td>\n      <td>365</td>\n      <td>4 weeks ago</td>\n      <td>t</td>\n      <td>14</td>\n      <td>41</td>\n      <td>71</td>\n      <td>346</td>\n      <td>2016-01-04</td>\n      <td>207</td>\n      <td>2011-11-01</td>\n      <td>2016-01-02</td>\n      <td>95.0</td>\n      <td>10.0</td>\n      <td>10.0</td>\n      <td>10.0</td>\n      <td>10.0</td>\n      <td>9.0</td>\n      <td>10.0</td>\n      <td>f</td>\n      <td>NaN</td>\n      <td>WASHINGTON</td>\n      <td>f</td>\n      <td>moderate</td>\n      <td>f</td>\n      <td>f</td>\n      <td>2</td>\n      <td>4.07</td>\n    </tr>\n    <tr>\n      <th>1</th>\n      <td>953595</td>\n      <td>https://www.airbnb.com/rooms/953595</td>\n      <td>20160104002432</td>\n      <td>2016-01-04</td>\n      <td>Bright &amp; Airy Queen Anne Apartment</td>\n      <td>Chemically sensitive? We've removed the irrita...</td>\n      <td>Beautiful, hypoallergenic apartment in an extr...</td>\n      <td>Chemically sensitive? We've removed the irrita...</td>\n      <td>none</td>\n      <td>Queen Anne is a wonderful, truly functional vi...</td>\n      <td>What's up with the free pillows?  Our home was...</td>\n      <td>Convenient bus stops are just down the block, ...</td>\n      <td>https://a0.muscache.com/ac/pictures/14409893/f...</td>\n      <td>https://a0.muscache.com/im/pictures/14409893/f...</td>\n      <td>https://a0.muscache.com/ac/pictures/14409893/f...</td>\n      <td>https://a0.muscache.com/ac/pictures/14409893/f...</td>\n      <td>5177328</td>\n      <td>https://www.airbnb.com/users/show/5177328</td>\n      <td>Andrea</td>\n      <td>2013-02-21</td>\n      <td>Seattle, Washington, United States</td>\n      <td>Living east coast/left coast/overseas.  Time i...</td>\n      <td>within an hour</td>\n      <td>98%</td>\n      <td>100%</td>\n      <td>t</td>\n      <td>https://a0.muscache.com/ac/users/5177328/profi...</td>\n      <td>https://a0.muscache.com/ac/users/5177328/profi...</td>\n      <td>Queen Anne</td>\n      <td>6.0</td>\n      <td>6.0</td>\n      <td>['email', 'phone', 'facebook', 'linkedin', 're...</td>\n      <td>t</td>\n      <td>t</td>\n      <td>7th Avenue West, Seattle, WA 98119, United States</td>\n      <td>Queen Anne</td>\n      <td>West Queen Anne</td>\n      <td>Queen Anne</td>\n      <td>Seattle</td>\n      <td>WA</td>\n      <td>98119</td>\n      <td>Seattle</td>\n      <td>Seattle, WA</td>\n      <td>US</td>\n      <td>United States</td>\n      <td>47.639123</td>\n      <td>-122.365666</td>\n      <td>t</td>\n      <td>Apartment</td>\n      <td>Entire home/apt</td>\n      <td>4</td>\n      <td>1.0</td>\n      <td>1.0</td>\n      <td>1.0</td>\n      <td>Real Bed</td>\n      <td>{TV,Internet,\"Wireless Internet\",Kitchen,\"Free...</td>\n      <td>NaN</td>\n      <td>$150.00</td>\n      <td>$1,000.00</td>\n      <td>$3,000.00</td>\n      <td>$100.00</td>\n      <td>$40.00</td>\n      <td>1</td>\n      <td>$0.00</td>\n      <td>2</td>\n      <td>90</td>\n      <td>today</td>\n      <td>t</td>\n      <td>13</td>\n      <td>13</td>\n      <td>16</td>\n      <td>291</td>\n      <td>2016-01-04</td>\n      <td>43</td>\n      <td>2013-08-19</td>\n      <td>2015-12-29</td>\n      <td>96.0</td>\n      <td>10.0</td>\n      <td>10.0</td>\n      <td>10.0</td>\n      <td>10.0</td>\n      <td>10.0</td>\n      <td>10.0</td>\n      <td>f</td>\n      <td>NaN</td>\n      <td>WASHINGTON</td>\n      <td>f</td>\n      <td>strict</td>\n      <td>t</td>\n      <td>t</td>\n      <td>6</td>\n      <td>1.48</td>\n    </tr>\n  </tbody>\n</table>\n</div>"
     },
     "metadata": {},
     "execution_count": 8
    }
   ],
   "source": [
    "listings.head(2)"
   ]
  },
  {
   "cell_type": "code",
   "execution_count": 93,
   "metadata": {},
   "outputs": [],
   "source": [
    "df_raw=listings"
   ]
  },
  {
   "cell_type": "code",
   "execution_count": 74,
   "metadata": {},
   "outputs": [],
   "source": [
    "columns_to_keep=['id',\n",
    " 'host_location',\n",
    "  'host_neighbourhood',\n",
    " 'host_has_profile_pic',\n",
    " 'host_identity_verified',\n",
    " 'neighbourhood',\n",
    " 'neighbourhood_cleansed',\n",
    " 'neighbourhood_group_cleansed',\n",
    " 'city','price',\n",
    " 'state',\n",
    " 'latitude',\n",
    " 'longitude',\n",
    " 'is_location_exact',\n",
    " 'property_type',\n",
    " 'accommodates',\n",
    " 'bathrooms',\n",
    " 'bedrooms',\n",
    " 'amenities',\n",
    " 'cleaning_fee',\n",
    " 'guests_included',\n",
    " 'extra_people',\n",
    " 'minimum_nights',\n",
    " 'maximum_nights',\n",
    " 'review_scores_rating',\n",
    " 'review_scores_cleanliness',\n",
    " 'review_scores_location',\n",
    " 'cancellation_policy']"
   ]
  },
  {
   "cell_type": "code",
   "execution_count": 239,
   "metadata": {},
   "outputs": [],
   "source": [
    "listings=pd.read_csv('listings.csv')"
   ]
  },
  {
   "cell_type": "code",
   "execution_count": 247,
   "metadata": {},
   "outputs": [
    {
     "output_type": "stream",
     "name": "stderr",
     "text": [
      "<ipython-input-247-47ed9588dece>:5: SettingWithCopyWarning: \nA value is trying to be set on a copy of a slice from a DataFrame.\nTry using .loc[row_indexer,col_indexer] = value instead\n\nSee the caveats in the documentation: https://pandas.pydata.org/pandas-docs/stable/user_guide/indexing.html#returning-a-view-versus-a-copy\n  df[col]=df[col].str.replace(\"$\",\"\").str.replace(\",\",\"\").str.replace(\"%\",\"\").astype(float)\n<ipython-input-247-47ed9588dece>:8: SettingWithCopyWarning: \nA value is trying to be set on a copy of a slice from a DataFrame.\nTry using .loc[row_indexer,col_indexer] = value instead\n\nSee the caveats in the documentation: https://pandas.pydata.org/pandas-docs/stable/user_guide/indexing.html#returning-a-view-versus-a-copy\n  df[col]=df[col].fillna(df[col].mean())\n<ipython-input-247-47ed9588dece>:11: SettingWithCopyWarning: \nA value is trying to be set on a copy of a slice from a DataFrame.\nTry using .loc[row_indexer,col_indexer] = value instead\n\nSee the caveats in the documentation: https://pandas.pydata.org/pandas-docs/stable/user_guide/indexing.html#returning-a-view-versus-a-copy\n  df[col]=np.where(df[col]>df[col].quantile(0.80),df[col].quantile(0.80),df[col])\n<ipython-input-247-47ed9588dece>:13: SettingWithCopyWarning: \nA value is trying to be set on a copy of a slice from a DataFrame\n\nSee the caveats in the documentation: https://pandas.pydata.org/pandas-docs/stable/user_guide/indexing.html#returning-a-view-versus-a-copy\n  df.dropna(subset=['bathrooms', 'bedrooms'], inplace=True)\n<ipython-input-247-47ed9588dece>:15: SettingWithCopyWarning: \nA value is trying to be set on a copy of a slice from a DataFrame\n\nSee the caveats in the documentation: https://pandas.pydata.org/pandas-docs/stable/user_guide/indexing.html#returning-a-view-versus-a-copy\n  df.dropna(subset=['host_neighbourhood','host_location','host_has_profile_pic','host_identity_verified','property_type','neighbourhood'], inplace=True)\n"
     ]
    },
    {
     "output_type": "error",
     "ename": "AttributeError",
     "evalue": "'Series' object has no attribute 'split'",
     "traceback": [
      "\u001b[1;31m---------------------------------------------------------------------------\u001b[0m",
      "\u001b[1;31mAttributeError\u001b[0m                            Traceback (most recent call last)",
      "\u001b[1;32m<ipython-input-247-47ed9588dece>\u001b[0m in \u001b[0;36m<module>\u001b[1;34m\u001b[0m\n\u001b[0;32m     21\u001b[0m \u001b[1;33m\u001b[0m\u001b[0m\n\u001b[0;32m     22\u001b[0m     \u001b[1;32mreturn\u001b[0m \u001b[0mdf\u001b[0m\u001b[1;33m\u001b[0m\u001b[1;33m\u001b[0m\u001b[0m\n\u001b[1;32m---> 23\u001b[1;33m \u001b[0mans\u001b[0m\u001b[1;33m=\u001b[0m\u001b[0mclean_listings\u001b[0m\u001b[1;33m(\u001b[0m\u001b[0mlistings\u001b[0m\u001b[1;33m)\u001b[0m\u001b[1;33m\u001b[0m\u001b[1;33m\u001b[0m\u001b[0m\n\u001b[0m",
      "\u001b[1;32m<ipython-input-247-47ed9588dece>\u001b[0m in \u001b[0;36mclean_listings\u001b[1;34m(df)\u001b[0m\n\u001b[0;32m     14\u001b[0m     \u001b[1;31m# dropping small number of null values for object columns\u001b[0m\u001b[1;33m\u001b[0m\u001b[1;33m\u001b[0m\u001b[1;33m\u001b[0m\u001b[0m\n\u001b[0;32m     15\u001b[0m     \u001b[0mdf\u001b[0m\u001b[1;33m.\u001b[0m\u001b[0mdropna\u001b[0m\u001b[1;33m(\u001b[0m\u001b[0msubset\u001b[0m\u001b[1;33m=\u001b[0m\u001b[1;33m[\u001b[0m\u001b[1;34m'host_neighbourhood'\u001b[0m\u001b[1;33m,\u001b[0m\u001b[1;34m'host_location'\u001b[0m\u001b[1;33m,\u001b[0m\u001b[1;34m'host_has_profile_pic'\u001b[0m\u001b[1;33m,\u001b[0m\u001b[1;34m'host_identity_verified'\u001b[0m\u001b[1;33m,\u001b[0m\u001b[1;34m'property_type'\u001b[0m\u001b[1;33m,\u001b[0m\u001b[1;34m'neighbourhood'\u001b[0m\u001b[1;33m]\u001b[0m\u001b[1;33m,\u001b[0m \u001b[0minplace\u001b[0m\u001b[1;33m=\u001b[0m\u001b[1;32mTrue\u001b[0m\u001b[1;33m)\u001b[0m\u001b[1;33m\u001b[0m\u001b[1;33m\u001b[0m\u001b[0m\n\u001b[1;32m---> 16\u001b[1;33m     \u001b[0mdf\u001b[0m\u001b[1;33m.\u001b[0m\u001b[0mamenities\u001b[0m\u001b[1;33m=\u001b[0m\u001b[0mdf\u001b[0m\u001b[1;33m.\u001b[0m\u001b[0mamenities\u001b[0m\u001b[1;33m.\u001b[0m\u001b[0mstr\u001b[0m\u001b[1;33m.\u001b[0m\u001b[0mstrip\u001b[0m\u001b[1;33m(\u001b[0m\u001b[1;34m'{}'\u001b[0m\u001b[1;33m)\u001b[0m\u001b[1;33m.\u001b[0m\u001b[0mstr\u001b[0m\u001b[1;33m.\u001b[0m\u001b[0mreplace\u001b[0m\u001b[1;33m(\u001b[0m\u001b[1;34m'\"'\u001b[0m\u001b[1;33m,\u001b[0m\u001b[1;34m''\u001b[0m\u001b[1;33m)\u001b[0m\u001b[1;33m.\u001b[0m\u001b[0msplit\u001b[0m\u001b[1;33m(\u001b[0m\u001b[1;34m','\u001b[0m\u001b[1;33m)\u001b[0m\u001b[1;33m\u001b[0m\u001b[1;33m\u001b[0m\u001b[0m\n\u001b[0m\u001b[0;32m     17\u001b[0m     \u001b[0mh\u001b[0m\u001b[1;33m=\u001b[0m\u001b[1;33m[\u001b[0m\u001b[1;33m]\u001b[0m\u001b[1;33m\u001b[0m\u001b[1;33m\u001b[0m\u001b[0m\n\u001b[0;32m     18\u001b[0m     \u001b[1;32mfor\u001b[0m \u001b[0mi\u001b[0m \u001b[1;32min\u001b[0m \u001b[0mdf\u001b[0m\u001b[1;33m.\u001b[0m\u001b[0mamenities\u001b[0m\u001b[1;33m:\u001b[0m\u001b[1;33m\u001b[0m\u001b[1;33m\u001b[0m\u001b[0m\n",
      "\u001b[1;32mE:\\anaconda\\lib\\site-packages\\pandas\\core\\generic.py\u001b[0m in \u001b[0;36m__getattr__\u001b[1;34m(self, name)\u001b[0m\n\u001b[0;32m   5272\u001b[0m             \u001b[1;32mif\u001b[0m \u001b[0mself\u001b[0m\u001b[1;33m.\u001b[0m\u001b[0m_info_axis\u001b[0m\u001b[1;33m.\u001b[0m\u001b[0m_can_hold_identifiers_and_holds_name\u001b[0m\u001b[1;33m(\u001b[0m\u001b[0mname\u001b[0m\u001b[1;33m)\u001b[0m\u001b[1;33m:\u001b[0m\u001b[1;33m\u001b[0m\u001b[1;33m\u001b[0m\u001b[0m\n\u001b[0;32m   5273\u001b[0m                 \u001b[1;32mreturn\u001b[0m \u001b[0mself\u001b[0m\u001b[1;33m[\u001b[0m\u001b[0mname\u001b[0m\u001b[1;33m]\u001b[0m\u001b[1;33m\u001b[0m\u001b[1;33m\u001b[0m\u001b[0m\n\u001b[1;32m-> 5274\u001b[1;33m             \u001b[1;32mreturn\u001b[0m \u001b[0mobject\u001b[0m\u001b[1;33m.\u001b[0m\u001b[0m__getattribute__\u001b[0m\u001b[1;33m(\u001b[0m\u001b[0mself\u001b[0m\u001b[1;33m,\u001b[0m \u001b[0mname\u001b[0m\u001b[1;33m)\u001b[0m\u001b[1;33m\u001b[0m\u001b[1;33m\u001b[0m\u001b[0m\n\u001b[0m\u001b[0;32m   5275\u001b[0m \u001b[1;33m\u001b[0m\u001b[0m\n\u001b[0;32m   5276\u001b[0m     \u001b[1;32mdef\u001b[0m \u001b[0m__setattr__\u001b[0m\u001b[1;33m(\u001b[0m\u001b[0mself\u001b[0m\u001b[1;33m,\u001b[0m \u001b[0mname\u001b[0m\u001b[1;33m:\u001b[0m \u001b[0mstr\u001b[0m\u001b[1;33m,\u001b[0m \u001b[0mvalue\u001b[0m\u001b[1;33m)\u001b[0m \u001b[1;33m->\u001b[0m \u001b[1;32mNone\u001b[0m\u001b[1;33m:\u001b[0m\u001b[1;33m\u001b[0m\u001b[1;33m\u001b[0m\u001b[0m\n",
      "\u001b[1;31mAttributeError\u001b[0m: 'Series' object has no attribute 'split'"
     ]
    }
   ],
   "source": [
    "def clean_listings(df):\n",
    "    df=df[columns_to_keep]\n",
    "    change_to_float_columns=['cleaning_fee','extra_people', 'price']\n",
    "    for col in change_to_float_columns:\n",
    "        df[col]=df[col].str.replace(\"$\",\"\").str.replace(\",\",\"\").str.replace(\"%\",\"\").astype(float)\n",
    "    fill_mean_columns=['cleaning_fee','review_scores_rating','review_scores_cleanliness','review_scores_location']\n",
    "    for col in fill_mean_columns:\n",
    "        df[col]=df[col].fillna(df[col].mean())\n",
    "    outlier_columns=['price', 'extra_people', 'cleaning_fee','bathrooms','bedrooms']\n",
    "    for col in outlier_columns:\n",
    "        df[col]=np.where(df[col]>df[col].quantile(0.80),df[col].quantile(0.80),df[col])\n",
    "    # dropping small number of null values for numeric columns\n",
    "    df.dropna(subset=['bathrooms', 'bedrooms'], inplace=True)\n",
    "    # dropping small number of null values for object columns\n",
    "    df.dropna(subset=['host_neighbourhood','host_location','host_has_profile_pic','host_identity_verified','property_type','neighbourhood'], inplace=True)\n",
    "    df.amenities=df.amenities.str.strip('{}').str.replace('\"','').split(',')\n",
    "    h=[]\n",
    "    for i in df.amenities:\n",
    "        h.append(len(i))\n",
    "    df['amneties_number']=h\n",
    "    \n",
    "    return df\n",
    "ans=clean_listings(listings)"
   ]
  },
  {
   "cell_type": "code",
   "execution_count": 244,
   "metadata": {},
   "outputs": [],
   "source": [
    "ans.dropna(subset=['host_neighbourhood','host_location','host_has_profile_pic','host_identity_verified','property_type','neighbourhood'], inplace=True)"
   ]
  },
  {
   "cell_type": "code",
   "execution_count": 248,
   "metadata": {},
   "outputs": [
    {
     "output_type": "execute_result",
     "data": {
      "text/plain": [
       "amneties_number                 0.0\n",
       "is_location_exact               0.0\n",
       "host_location                   0.0\n",
       "host_neighbourhood              0.0\n",
       "host_has_profile_pic            0.0\n",
       "host_identity_verified          0.0\n",
       "neighbourhood                   0.0\n",
       "neighbourhood_cleansed          0.0\n",
       "neighbourhood_group_cleansed    0.0\n",
       "city                            0.0\n",
       "price                           0.0\n",
       "state                           0.0\n",
       "latitude                        0.0\n",
       "longitude                       0.0\n",
       "property_type                   0.0\n",
       "cancellation_policy             0.0\n",
       "accommodates                    0.0\n",
       "bathrooms                       0.0\n",
       "bedrooms                        0.0\n",
       "amenities                       0.0\n",
       "cleaning_fee                    0.0\n",
       "guests_included                 0.0\n",
       "extra_people                    0.0\n",
       "minimum_nights                  0.0\n",
       "maximum_nights                  0.0\n",
       "review_scores_rating            0.0\n",
       "review_scores_cleanliness       0.0\n",
       "review_scores_location          0.0\n",
       "id                              0.0\n",
       "dtype: float64"
      ]
     },
     "metadata": {},
     "execution_count": 248
    }
   ],
   "source": [
    "ans.isnull().mean().sort_values(ascending=False)"
   ]
  },
  {
   "cell_type": "code",
   "execution_count": 225,
   "metadata": {},
   "outputs": [
    {
     "output_type": "execute_result",
     "data": {
      "text/plain": [
       "0       {TV,\"Cable TV\",Internet,\"Wireless Internet\",\"A...\n",
       "1       {TV,Internet,\"Wireless Internet\",Kitchen,\"Free...\n",
       "2       {TV,\"Cable TV\",Internet,\"Wireless Internet\",\"A...\n",
       "3       {Internet,\"Wireless Internet\",Kitchen,\"Indoor ...\n",
       "4       {TV,\"Cable TV\",Internet,\"Wireless Internet\",Ki...\n",
       "                              ...                        \n",
       "3813    {TV,\"Cable TV\",Internet,\"Wireless Internet\",\"A...\n",
       "3814    {TV,\"Cable TV\",Internet,\"Wireless Internet\",Ki...\n",
       "3815    {\"Cable TV\",\"Wireless Internet\",Kitchen,\"Free ...\n",
       "3816    {TV,\"Wireless Internet\",Kitchen,\"Free Parking ...\n",
       "3817    {TV,\"Cable TV\",Internet,\"Wireless Internet\",Ki...\n",
       "Name: amenities, Length: 3796, dtype: object"
      ]
     },
     "metadata": {},
     "execution_count": 225
    }
   ],
   "source": [
    "ans.amenities"
   ]
  },
  {
   "cell_type": "code",
   "execution_count": 216,
   "metadata": {},
   "outputs": [],
   "source": [
    "df=ans"
   ]
  },
  {
   "cell_type": "code",
   "execution_count": 230,
   "metadata": {},
   "outputs": [],
   "source": [
    "h=[]\n",
    "for i in df.amenities:\n",
    "    h.append(len(i))\n",
    "df['amneties_number']=h"
   ]
  },
  {
   "cell_type": "code",
   "execution_count": 231,
   "metadata": {},
   "outputs": [
    {
     "output_type": "execute_result",
     "data": {
      "text/plain": [
       "0       114\n",
       "1       243\n",
       "2       291\n",
       "3       197\n",
       "4       181\n",
       "       ... \n",
       "3813    221\n",
       "3814    238\n",
       "3815    273\n",
       "3816    167\n",
       "3817    314\n",
       "Name: amneties_number, Length: 3796, dtype: int64"
      ]
     },
     "metadata": {},
     "execution_count": 231
    }
   ],
   "source": [
    "df['amneties_number']"
   ]
  },
  {
   "cell_type": "code",
   "execution_count": 201,
   "metadata": {},
   "outputs": [],
   "source": [
    "a='{TV,\"Cable TV\",Internet,\"Wireless Internet\",\"Air Conditioning\",Kitchen,Heating,\"Family/Kid Friendly\",Washer,Dryer}'"
   ]
  },
  {
   "cell_type": "code",
   "execution_count": 206,
   "metadata": {},
   "outputs": [
    {
     "output_type": "execute_result",
     "data": {
      "text/plain": [
       "'TV,\"Cable TV\",Internet,\"Wireless Internet\",\"Air Conditioning\",Kitchen,Heating,\"Family/Kid Friendly\",Washer,Dryer'"
      ]
     },
     "metadata": {},
     "execution_count": 206
    }
   ],
   "source": [
    "a.strip('{}')"
   ]
  },
  {
   "cell_type": "code",
   "execution_count": 209,
   "metadata": {},
   "outputs": [],
   "source": [
    "from collections import Counter"
   ]
  },
  {
   "cell_type": "code",
   "execution_count": 208,
   "metadata": {},
   "outputs": [
    {
     "output_type": "execute_result",
     "data": {
      "text/plain": [
       "['TV',\n",
       " 'Cable TV',\n",
       " 'Internet',\n",
       " 'Wireless Internet',\n",
       " 'Air Conditioning',\n",
       " 'Kitchen',\n",
       " 'Heating',\n",
       " 'Family/Kid Friendly',\n",
       " 'Washer',\n",
       " 'Dryer']"
      ]
     },
     "metadata": {},
     "execution_count": 208
    }
   ],
   "source": [
    "\n",
    "a.strip('{}').replace('\"','').split(',')"
   ]
  },
  {
   "cell_type": "code",
   "execution_count": 194,
   "metadata": {},
   "outputs": [
    {
     "output_type": "execute_result",
     "data": {
      "text/plain": [
       "review_scores_location       0.0\n",
       "review_scores_cleanliness    0.0\n",
       "review_scores_rating         0.0\n",
       "extra_people                 0.0\n",
       "cleaning_fee                 0.0\n",
       "bedrooms                     0.0\n",
       "bathrooms                    0.0\n",
       "longitude                    0.0\n",
       "latitude                     0.0\n",
       "price                        0.0\n",
       "dtype: float64"
      ]
     },
     "metadata": {},
     "execution_count": 194
    }
   ],
   "source": [
    "ans.select_dtypes(include=['float','int']).isnull().mean().sort_values(ascending=False)"
   ]
  },
  {
   "cell_type": "code",
   "execution_count": 180,
   "metadata": {},
   "outputs": [],
   "source": [
    "df=ans"
   ]
  },
  {
   "cell_type": "code",
   "execution_count": 184,
   "metadata": {},
   "outputs": [
    {
     "output_type": "stream",
     "name": "stderr",
     "text": [
      "E:\\anaconda\\lib\\site-packages\\pandas\\core\\series.py:4494: SettingWithCopyWarning: \nA value is trying to be set on a copy of a slice from a DataFrame\n\nSee the caveats in the documentation: https://pandas.pydata.org/pandas-docs/stable/user_guide/indexing.html#returning-a-view-versus-a-copy\n  self._update_inplace(result)\n"
     ]
    }
   ],
   "source": [
    "dropna_columns=['bathrooms','bedrooms']\n",
    "for col in dropna_columns:\n",
    "    df[col].dropna(how='any',inplace=True)"
   ]
  },
  {
   "cell_type": "code",
   "execution_count": 185,
   "metadata": {},
   "outputs": [
    {
     "output_type": "execute_result",
     "data": {
      "text/plain": [
       "bedrooms                        1.000000\n",
       "bathrooms                       1.000000\n",
       "neighbourhood                   0.108958\n",
       "host_neighbourhood              0.078575\n",
       "host_location                   0.002095\n",
       "host_identity_verified          0.000524\n",
       "host_has_profile_pic            0.000524\n",
       "property_type                   0.000262\n",
       "cancellation_policy             0.000000\n",
       "amenities                       0.000000\n",
       "is_location_exact               0.000000\n",
       "state                           0.000000\n",
       "city                            0.000000\n",
       "neighbourhood_group_cleansed    0.000000\n",
       "neighbourhood_cleansed          0.000000\n",
       "dtype: float64"
      ]
     },
     "metadata": {},
     "execution_count": 185
    }
   ],
   "source": [
    "df.select_dtypes(include=['object']).isnull().mean().sort_values(ascending=False)"
   ]
  },
  {
   "cell_type": "code",
   "execution_count": 102,
   "metadata": {},
   "outputs": [
    {
     "output_type": "stream",
     "name": "stderr",
     "text": [
      "E:\\anaconda\\lib\\site-packages\\pandas\\core\\generic.py:5303: SettingWithCopyWarning: \nA value is trying to be set on a copy of a slice from a DataFrame.\nTry using .loc[row_indexer,col_indexer] = value instead\n\nSee the caveats in the documentation: https://pandas.pydata.org/pandas-docs/stable/user_guide/indexing.html#returning-a-view-versus-a-copy\n  self[name] = value\n"
     ]
    }
   ],
   "source": [
    "ans.cleaning_fee=np.where(ans.cleaning_fee>ans.cleaning_fee.quantile(0.80),ans.cleaning_fee.quantile(0.80),ans.cleaning_fee)"
   ]
  },
  {
   "cell_type": "code",
   "execution_count": 105,
   "metadata": {},
   "outputs": [
    {
     "output_type": "stream",
     "name": "stderr",
     "text": [
      "E:\\anaconda\\lib\\site-packages\\pandas\\core\\generic.py:5303: SettingWithCopyWarning: \nA value is trying to be set on a copy of a slice from a DataFrame.\nTry using .loc[row_indexer,col_indexer] = value instead\n\nSee the caveats in the documentation: https://pandas.pydata.org/pandas-docs/stable/user_guide/indexing.html#returning-a-view-versus-a-copy\n  self[name] = value\n"
     ]
    }
   ],
   "source": [
    "ans.extra_people=np.where(ans.extra_people>ans.extra_people.quantile(0.80),ans.extra_people.quantile(0.80),ans.extra_people)"
   ]
  },
  {
   "cell_type": "code",
   "execution_count": 106,
   "metadata": {},
   "outputs": [
    {
     "output_type": "execute_result",
     "data": {
      "text/plain": [
       "count    3818.000000\n",
       "mean        7.579361\n",
       "std         8.743971\n",
       "min         0.000000\n",
       "25%         0.000000\n",
       "50%         0.000000\n",
       "75%        20.000000\n",
       "max        20.000000\n",
       "Name: extra_people, dtype: float64"
      ]
     },
     "metadata": {},
     "execution_count": 106
    }
   ],
   "source": [
    "ans.extra_people.describe()"
   ]
  },
  {
   "cell_type": "code",
   "execution_count": 47,
   "metadata": {},
   "outputs": [
    {
     "output_type": "stream",
     "name": "stderr",
     "text": [
      "<ipython-input-47-9799c714f336>:3: SettingWithCopyWarning: \nA value is trying to be set on a copy of a slice from a DataFrame.\nTry using .loc[row_indexer,col_indexer] = value instead\n\nSee the caveats in the documentation: https://pandas.pydata.org/pandas-docs/stable/user_guide/indexing.html#returning-a-view-versus-a-copy\n  listings[col]=listings[col].str.replace(\"$\",\"\").str.replace(\",\",\"\").str.replace(\"%\",\"\").astype(float)\n"
     ]
    }
   ],
   "source": [
    "change_to_float_columns=['cleaning_fee','extra_people', 'host_response_rate','host_acceptance_rate','price']\n",
    "for col in change_to_float_columns:\n",
    "    listings[col]=listings[col].str.replace(\"$\",\"\").str.replace(\",\",\"\").str.replace(\"%\",\"\").astype(float)"
   ]
  },
  {
   "cell_type": "code",
   "execution_count": 48,
   "metadata": {},
   "outputs": [
    {
     "output_type": "execute_result",
     "data": {
      "text/plain": [
       "count    3818.000000\n",
       "mean      127.976166\n",
       "std        90.250022\n",
       "min        20.000000\n",
       "25%        75.000000\n",
       "50%       100.000000\n",
       "75%       150.000000\n",
       "max      1000.000000\n",
       "Name: price, dtype: float64"
      ]
     },
     "metadata": {},
     "execution_count": 48
    }
   ],
   "source": [
    "listings['price'].describe()"
   ]
  },
  {
   "cell_type": "code",
   "execution_count": 19,
   "metadata": {},
   "outputs": [
    {
     "output_type": "execute_result",
     "data": {
      "text/plain": [
       "24"
      ]
     },
     "metadata": {},
     "execution_count": 19
    }
   ],
   "source": [
    "columns_to_keep = ['id', 'space', 'description', 'host_has_profile_pic', 'neighbourhood_group_cleansed', \n",
    "                   'latitude', 'longitude', 'property_type', 'room_type', 'accommodates', 'bathrooms',  \n",
    "                   'bedrooms', 'bed_type', 'amenities', 'square_feet', 'price', 'cleaning_fee', \n",
    "                   'security_deposit', 'extra_people', 'guests_included', 'minimum_nights',  \n",
    "                   'instant_bookable', 'is_business_travel_ready', 'cancellation_policy']\n",
    "len(columns_to_keep)"
   ]
  },
  {
   "cell_type": "code",
   "execution_count": 73,
   "metadata": {},
   "outputs": [
    {
     "data": {
      "text/plain": [
       "(3818, 39)"
      ]
     },
     "execution_count": 73,
     "metadata": {},
     "output_type": "execute_result"
    }
   ],
   "source": [
    "listings_reduced=listings[columns_to_keep]\n",
    "listings_reduced.shape"
   ]
  },
  {
   "cell_type": "code",
   "execution_count": null,
   "metadata": {},
   "outputs": [],
   "source": []
  },
  {
   "cell_type": "code",
   "execution_count": null,
   "metadata": {},
   "outputs": [],
   "source": []
  },
  {
   "cell_type": "code",
   "execution_count": null,
   "metadata": {},
   "outputs": [],
   "source": []
  },
  {
   "cell_type": "code",
   "execution_count": null,
   "metadata": {},
   "outputs": [],
   "source": []
  },
  {
   "cell_type": "code",
   "execution_count": null,
   "metadata": {},
   "outputs": [],
   "source": []
  },
  {
   "cell_type": "code",
   "execution_count": null,
   "metadata": {},
   "outputs": [],
   "source": []
  },
  {
   "cell_type": "code",
   "execution_count": null,
   "metadata": {},
   "outputs": [],
   "source": []
  },
  {
   "cell_type": "code",
   "execution_count": null,
   "metadata": {},
   "outputs": [],
   "source": []
  },
  {
   "cell_type": "code",
   "execution_count": null,
   "metadata": {},
   "outputs": [],
   "source": []
  },
  {
   "cell_type": "code",
   "execution_count": null,
   "metadata": {},
   "outputs": [],
   "source": []
  },
  {
   "cell_type": "code",
   "execution_count": null,
   "metadata": {},
   "outputs": [],
   "source": []
  },
  {
   "cell_type": "code",
   "execution_count": 56,
   "metadata": {},
   "outputs": [
    {
     "ename": "KeyError",
     "evalue": "\"['maximum_nightsnumber_of_reviews'] not in index\"",
     "output_type": "error",
     "traceback": [
      "\u001b[1;31m---------------------------------------------------------------------------\u001b[0m",
      "\u001b[1;31mKeyError\u001b[0m                                  Traceback (most recent call last)",
      "\u001b[1;32m<ipython-input-56-18af98efd39a>\u001b[0m in \u001b[0;36m<module>\u001b[1;34m\u001b[0m\n\u001b[0;32m     16\u001b[0m        \u001b[1;34m'license'\u001b[0m\u001b[1;33m,\u001b[0m\u001b[1;34m'instant_bookable'\u001b[0m\u001b[1;33m,\u001b[0m\u001b[1;33m\u001b[0m\u001b[1;33m\u001b[0m\u001b[0m\n\u001b[0;32m     17\u001b[0m        'cancellation_policy']\n\u001b[1;32m---> 18\u001b[1;33m \u001b[0mreduced_listings\u001b[0m\u001b[1;33m=\u001b[0m\u001b[0mlistings\u001b[0m\u001b[1;33m[\u001b[0m\u001b[0mlistings\u001b[0m\u001b[1;33m[\u001b[0m\u001b[0mcolumns_to_keep\u001b[0m\u001b[1;33m]\u001b[0m\u001b[1;33m]\u001b[0m\u001b[1;33m\u001b[0m\u001b[1;33m\u001b[0m\u001b[0m\n\u001b[0m\u001b[0;32m     19\u001b[0m \u001b[0mreduced_listings\u001b[0m\u001b[1;33m.\u001b[0m\u001b[0mhead\u001b[0m\u001b[1;33m(\u001b[0m\u001b[1;36m3\u001b[0m\u001b[1;33m)\u001b[0m\u001b[1;33m\u001b[0m\u001b[1;33m\u001b[0m\u001b[0m\n",
      "\u001b[1;32mE:\\anaconda\\lib\\site-packages\\pandas\\core\\frame.py\u001b[0m in \u001b[0;36m__getitem__\u001b[1;34m(self, key)\u001b[0m\n\u001b[0;32m   2804\u001b[0m             \u001b[1;32mif\u001b[0m \u001b[0mis_iterator\u001b[0m\u001b[1;33m(\u001b[0m\u001b[0mkey\u001b[0m\u001b[1;33m)\u001b[0m\u001b[1;33m:\u001b[0m\u001b[1;33m\u001b[0m\u001b[1;33m\u001b[0m\u001b[0m\n\u001b[0;32m   2805\u001b[0m                 \u001b[0mkey\u001b[0m \u001b[1;33m=\u001b[0m \u001b[0mlist\u001b[0m\u001b[1;33m(\u001b[0m\u001b[0mkey\u001b[0m\u001b[1;33m)\u001b[0m\u001b[1;33m\u001b[0m\u001b[1;33m\u001b[0m\u001b[0m\n\u001b[1;32m-> 2806\u001b[1;33m             \u001b[0mindexer\u001b[0m \u001b[1;33m=\u001b[0m \u001b[0mself\u001b[0m\u001b[1;33m.\u001b[0m\u001b[0mloc\u001b[0m\u001b[1;33m.\u001b[0m\u001b[0m_get_listlike_indexer\u001b[0m\u001b[1;33m(\u001b[0m\u001b[0mkey\u001b[0m\u001b[1;33m,\u001b[0m \u001b[0maxis\u001b[0m\u001b[1;33m=\u001b[0m\u001b[1;36m1\u001b[0m\u001b[1;33m,\u001b[0m \u001b[0mraise_missing\u001b[0m\u001b[1;33m=\u001b[0m\u001b[1;32mTrue\u001b[0m\u001b[1;33m)\u001b[0m\u001b[1;33m[\u001b[0m\u001b[1;36m1\u001b[0m\u001b[1;33m]\u001b[0m\u001b[1;33m\u001b[0m\u001b[1;33m\u001b[0m\u001b[0m\n\u001b[0m\u001b[0;32m   2807\u001b[0m \u001b[1;33m\u001b[0m\u001b[0m\n\u001b[0;32m   2808\u001b[0m         \u001b[1;31m# take() does not accept boolean indexers\u001b[0m\u001b[1;33m\u001b[0m\u001b[1;33m\u001b[0m\u001b[1;33m\u001b[0m\u001b[0m\n",
      "\u001b[1;32mE:\\anaconda\\lib\\site-packages\\pandas\\core\\indexing.py\u001b[0m in \u001b[0;36m_get_listlike_indexer\u001b[1;34m(self, key, axis, raise_missing)\u001b[0m\n\u001b[0;32m   1550\u001b[0m             \u001b[0mkeyarr\u001b[0m\u001b[1;33m,\u001b[0m \u001b[0mindexer\u001b[0m\u001b[1;33m,\u001b[0m \u001b[0mnew_indexer\u001b[0m \u001b[1;33m=\u001b[0m \u001b[0max\u001b[0m\u001b[1;33m.\u001b[0m\u001b[0m_reindex_non_unique\u001b[0m\u001b[1;33m(\u001b[0m\u001b[0mkeyarr\u001b[0m\u001b[1;33m)\u001b[0m\u001b[1;33m\u001b[0m\u001b[1;33m\u001b[0m\u001b[0m\n\u001b[0;32m   1551\u001b[0m \u001b[1;33m\u001b[0m\u001b[0m\n\u001b[1;32m-> 1552\u001b[1;33m         self._validate_read_indexer(\n\u001b[0m\u001b[0;32m   1553\u001b[0m             \u001b[0mkeyarr\u001b[0m\u001b[1;33m,\u001b[0m \u001b[0mindexer\u001b[0m\u001b[1;33m,\u001b[0m \u001b[0mo\u001b[0m\u001b[1;33m.\u001b[0m\u001b[0m_get_axis_number\u001b[0m\u001b[1;33m(\u001b[0m\u001b[0maxis\u001b[0m\u001b[1;33m)\u001b[0m\u001b[1;33m,\u001b[0m \u001b[0mraise_missing\u001b[0m\u001b[1;33m=\u001b[0m\u001b[0mraise_missing\u001b[0m\u001b[1;33m\u001b[0m\u001b[1;33m\u001b[0m\u001b[0m\n\u001b[0;32m   1554\u001b[0m         )\n",
      "\u001b[1;32mE:\\anaconda\\lib\\site-packages\\pandas\\core\\indexing.py\u001b[0m in \u001b[0;36m_validate_read_indexer\u001b[1;34m(self, key, indexer, axis, raise_missing)\u001b[0m\n\u001b[0;32m   1644\u001b[0m             \u001b[1;32mif\u001b[0m \u001b[1;32mnot\u001b[0m \u001b[1;33m(\u001b[0m\u001b[0mself\u001b[0m\u001b[1;33m.\u001b[0m\u001b[0mname\u001b[0m \u001b[1;33m==\u001b[0m \u001b[1;34m\"loc\"\u001b[0m \u001b[1;32mand\u001b[0m \u001b[1;32mnot\u001b[0m \u001b[0mraise_missing\u001b[0m\u001b[1;33m)\u001b[0m\u001b[1;33m:\u001b[0m\u001b[1;33m\u001b[0m\u001b[1;33m\u001b[0m\u001b[0m\n\u001b[0;32m   1645\u001b[0m                 \u001b[0mnot_found\u001b[0m \u001b[1;33m=\u001b[0m \u001b[0mlist\u001b[0m\u001b[1;33m(\u001b[0m\u001b[0mset\u001b[0m\u001b[1;33m(\u001b[0m\u001b[0mkey\u001b[0m\u001b[1;33m)\u001b[0m \u001b[1;33m-\u001b[0m \u001b[0mset\u001b[0m\u001b[1;33m(\u001b[0m\u001b[0max\u001b[0m\u001b[1;33m)\u001b[0m\u001b[1;33m)\u001b[0m\u001b[1;33m\u001b[0m\u001b[1;33m\u001b[0m\u001b[0m\n\u001b[1;32m-> 1646\u001b[1;33m                 \u001b[1;32mraise\u001b[0m \u001b[0mKeyError\u001b[0m\u001b[1;33m(\u001b[0m\u001b[1;34mf\"{not_found} not in index\"\u001b[0m\u001b[1;33m)\u001b[0m\u001b[1;33m\u001b[0m\u001b[1;33m\u001b[0m\u001b[0m\n\u001b[0m\u001b[0;32m   1647\u001b[0m \u001b[1;33m\u001b[0m\u001b[0m\n\u001b[0;32m   1648\u001b[0m             \u001b[1;31m# we skip the warning on Categorical/Interval\u001b[0m\u001b[1;33m\u001b[0m\u001b[1;33m\u001b[0m\u001b[1;33m\u001b[0m\u001b[0m\n",
      "\u001b[1;31mKeyError\u001b[0m: \"['maximum_nightsnumber_of_reviews'] not in index\""
     ]
    }
   ],
   "source": [
    "columns_to_keep=['host_since',\n",
    "       'host_location',  'host_response_time',\n",
    "       'host_response_rate', 'host_acceptance_rate', 'host_is_superhost',\n",
    "        'host_neighbourhood',\n",
    "        'host_total_listings_count',\n",
    "       'host_verifications',  'host_identity_verified',\n",
    "         'neighbourhood_group_cleansed',  \n",
    "         'latitude', 'longitude',\n",
    "        'property_type', 'room_type', 'accommodates',\n",
    "       'bathrooms', 'bedrooms', 'beds', 'bed_type', 'amenities', 'square_feet',\n",
    "       'price', 'weekly_price', 'monthly_price', 'security_deposit',\n",
    "       'cleaning_fee', 'guests_included', 'extra_people', 'minimum_nights',\n",
    "       'maximum_nights' 'number_of_reviews',\n",
    "        'review_scores_rating','review_scores_cleanliness',       \n",
    "       'review_scores_location', 'review_scores_value', \n",
    "       'license','instant_bookable',\n",
    "       'cancellation_policy']\n",
    "reduced_listings=listings[listings[columns_to_keep]]\n",
    "reduced_listings.head(3)"
   ]
  },
  {
   "cell_type": "code",
   "execution_count": 52,
   "metadata": {},
   "outputs": [
    {
     "data": {
      "text/plain": [
       "Seattle    3818\n",
       "Name: market, dtype: int64"
      ]
     },
     "execution_count": 52,
     "metadata": {},
     "output_type": "execute_result"
    }
   ],
   "source": [
    "listings['market'].value_counts()"
   ]
  },
  {
   "cell_type": "code",
   "execution_count": 11,
   "metadata": {},
   "outputs": [
    {
     "data": {
      "text/html": [
       "<div>\n",
       "<style scoped>\n",
       "    .dataframe tbody tr th:only-of-type {\n",
       "        vertical-align: middle;\n",
       "    }\n",
       "\n",
       "    .dataframe tbody tr th {\n",
       "        vertical-align: top;\n",
       "    }\n",
       "\n",
       "    .dataframe thead th {\n",
       "        text-align: right;\n",
       "    }\n",
       "</style>\n",
       "<table border=\"1\" class=\"dataframe\">\n",
       "  <thead>\n",
       "    <tr style=\"text-align: right;\">\n",
       "      <th></th>\n",
       "      <th>listing_id</th>\n",
       "      <th>id</th>\n",
       "      <th>date</th>\n",
       "      <th>reviewer_id</th>\n",
       "      <th>reviewer_name</th>\n",
       "      <th>comments</th>\n",
       "    </tr>\n",
       "  </thead>\n",
       "  <tbody>\n",
       "    <tr>\n",
       "      <th>0</th>\n",
       "      <td>7202016</td>\n",
       "      <td>38917982</td>\n",
       "      <td>2015-07-19</td>\n",
       "      <td>28943674</td>\n",
       "      <td>Bianca</td>\n",
       "      <td>Cute and cozy place. Perfect location to every...</td>\n",
       "    </tr>\n",
       "    <tr>\n",
       "      <th>1</th>\n",
       "      <td>7202016</td>\n",
       "      <td>39087409</td>\n",
       "      <td>2015-07-20</td>\n",
       "      <td>32440555</td>\n",
       "      <td>Frank</td>\n",
       "      <td>Kelly has a great room in a very central locat...</td>\n",
       "    </tr>\n",
       "    <tr>\n",
       "      <th>2</th>\n",
       "      <td>7202016</td>\n",
       "      <td>39820030</td>\n",
       "      <td>2015-07-26</td>\n",
       "      <td>37722850</td>\n",
       "      <td>Ian</td>\n",
       "      <td>Very spacious apartment, and in a great neighb...</td>\n",
       "    </tr>\n",
       "  </tbody>\n",
       "</table>\n",
       "</div>"
      ],
      "text/plain": [
       "   listing_id        id        date  reviewer_id reviewer_name  \\\n",
       "0     7202016  38917982  2015-07-19     28943674        Bianca   \n",
       "1     7202016  39087409  2015-07-20     32440555         Frank   \n",
       "2     7202016  39820030  2015-07-26     37722850           Ian   \n",
       "\n",
       "                                            comments  \n",
       "0  Cute and cozy place. Perfect location to every...  \n",
       "1  Kelly has a great room in a very central locat...  \n",
       "2  Very spacious apartment, and in a great neighb...  "
      ]
     },
     "execution_count": 11,
     "metadata": {},
     "output_type": "execute_result"
    }
   ],
   "source": [
    "reviews.head(3)"
   ]
  },
  {
   "cell_type": "code",
   "execution_count": 12,
   "metadata": {},
   "outputs": [
    {
     "data": {
      "text/html": [
       "<div>\n",
       "<style scoped>\n",
       "    .dataframe tbody tr th:only-of-type {\n",
       "        vertical-align: middle;\n",
       "    }\n",
       "\n",
       "    .dataframe tbody tr th {\n",
       "        vertical-align: top;\n",
       "    }\n",
       "\n",
       "    .dataframe thead th {\n",
       "        text-align: right;\n",
       "    }\n",
       "</style>\n",
       "<table border=\"1\" class=\"dataframe\">\n",
       "  <thead>\n",
       "    <tr style=\"text-align: right;\">\n",
       "      <th></th>\n",
       "      <th>listing_id</th>\n",
       "      <th>date</th>\n",
       "      <th>available</th>\n",
       "      <th>price</th>\n",
       "    </tr>\n",
       "  </thead>\n",
       "  <tbody>\n",
       "    <tr>\n",
       "      <th>0</th>\n",
       "      <td>241032</td>\n",
       "      <td>2016-01-04</td>\n",
       "      <td>t</td>\n",
       "      <td>$85.00</td>\n",
       "    </tr>\n",
       "    <tr>\n",
       "      <th>1</th>\n",
       "      <td>241032</td>\n",
       "      <td>2016-01-05</td>\n",
       "      <td>t</td>\n",
       "      <td>$85.00</td>\n",
       "    </tr>\n",
       "    <tr>\n",
       "      <th>2</th>\n",
       "      <td>241032</td>\n",
       "      <td>2016-01-06</td>\n",
       "      <td>f</td>\n",
       "      <td>NaN</td>\n",
       "    </tr>\n",
       "  </tbody>\n",
       "</table>\n",
       "</div>"
      ],
      "text/plain": [
       "   listing_id        date available   price\n",
       "0      241032  2016-01-04         t  $85.00\n",
       "1      241032  2016-01-05         t  $85.00\n",
       "2      241032  2016-01-06         f     NaN"
      ]
     },
     "execution_count": 12,
     "metadata": {},
     "output_type": "execute_result"
    }
   ],
   "source": [
    "calendar.head(3)"
   ]
  },
  {
   "cell_type": "code",
   "execution_count": 19,
   "metadata": {},
   "outputs": [],
   "source": [
    "comment=['good','great','loved', 'clean','wonderful','nice','clean']\n",
    "good_reviews=[]\n",
    "for i in reviews.comments:\n",
    "    if i in comment:\n",
    "        good_reviews.append(i)"
   ]
  },
  {
   "cell_type": "code",
   "execution_count": 20,
   "metadata": {},
   "outputs": [
    {
     "data": {
      "text/plain": [
       "['great', 'wonderful', 'good', 'nice']"
      ]
     },
     "execution_count": 20,
     "metadata": {},
     "output_type": "execute_result"
    }
   ],
   "source": [
    "good_reviews"
   ]
  },
  {
   "cell_type": "code",
   "execution_count": 13,
   "metadata": {},
   "outputs": [
    {
     "data": {
      "text/html": [
       "<div>\n",
       "<style scoped>\n",
       "    .dataframe tbody tr th:only-of-type {\n",
       "        vertical-align: middle;\n",
       "    }\n",
       "\n",
       "    .dataframe tbody tr th {\n",
       "        vertical-align: top;\n",
       "    }\n",
       "\n",
       "    .dataframe thead th {\n",
       "        text-align: right;\n",
       "    }\n",
       "</style>\n",
       "<table border=\"1\" class=\"dataframe\">\n",
       "  <thead>\n",
       "    <tr style=\"text-align: right;\">\n",
       "      <th></th>\n",
       "      <th>id</th>\n",
       "      <th>listing_url</th>\n",
       "      <th>scrape_id</th>\n",
       "      <th>last_scraped</th>\n",
       "      <th>name</th>\n",
       "      <th>summary</th>\n",
       "      <th>space</th>\n",
       "      <th>description</th>\n",
       "      <th>experiences_offered</th>\n",
       "      <th>neighborhood_overview</th>\n",
       "      <th>...</th>\n",
       "      <th>review_scores_value</th>\n",
       "      <th>requires_license</th>\n",
       "      <th>license</th>\n",
       "      <th>jurisdiction_names</th>\n",
       "      <th>instant_bookable</th>\n",
       "      <th>cancellation_policy</th>\n",
       "      <th>require_guest_profile_picture</th>\n",
       "      <th>require_guest_phone_verification</th>\n",
       "      <th>calculated_host_listings_count</th>\n",
       "      <th>reviews_per_month</th>\n",
       "    </tr>\n",
       "  </thead>\n",
       "  <tbody>\n",
       "    <tr>\n",
       "      <th>0</th>\n",
       "      <td>241032</td>\n",
       "      <td>https://www.airbnb.com/rooms/241032</td>\n",
       "      <td>20160104002432</td>\n",
       "      <td>2016-01-04</td>\n",
       "      <td>Stylish Queen Anne Apartment</td>\n",
       "      <td>NaN</td>\n",
       "      <td>Make your self at home in this charming one-be...</td>\n",
       "      <td>Make your self at home in this charming one-be...</td>\n",
       "      <td>none</td>\n",
       "      <td>NaN</td>\n",
       "      <td>...</td>\n",
       "      <td>10.0</td>\n",
       "      <td>f</td>\n",
       "      <td>NaN</td>\n",
       "      <td>WASHINGTON</td>\n",
       "      <td>f</td>\n",
       "      <td>moderate</td>\n",
       "      <td>f</td>\n",
       "      <td>f</td>\n",
       "      <td>2</td>\n",
       "      <td>4.07</td>\n",
       "    </tr>\n",
       "    <tr>\n",
       "      <th>1</th>\n",
       "      <td>953595</td>\n",
       "      <td>https://www.airbnb.com/rooms/953595</td>\n",
       "      <td>20160104002432</td>\n",
       "      <td>2016-01-04</td>\n",
       "      <td>Bright &amp; Airy Queen Anne Apartment</td>\n",
       "      <td>Chemically sensitive? We've removed the irrita...</td>\n",
       "      <td>Beautiful, hypoallergenic apartment in an extr...</td>\n",
       "      <td>Chemically sensitive? We've removed the irrita...</td>\n",
       "      <td>none</td>\n",
       "      <td>Queen Anne is a wonderful, truly functional vi...</td>\n",
       "      <td>...</td>\n",
       "      <td>10.0</td>\n",
       "      <td>f</td>\n",
       "      <td>NaN</td>\n",
       "      <td>WASHINGTON</td>\n",
       "      <td>f</td>\n",
       "      <td>strict</td>\n",
       "      <td>t</td>\n",
       "      <td>t</td>\n",
       "      <td>6</td>\n",
       "      <td>1.48</td>\n",
       "    </tr>\n",
       "    <tr>\n",
       "      <th>2</th>\n",
       "      <td>3308979</td>\n",
       "      <td>https://www.airbnb.com/rooms/3308979</td>\n",
       "      <td>20160104002432</td>\n",
       "      <td>2016-01-04</td>\n",
       "      <td>New Modern House-Amazing water view</td>\n",
       "      <td>New modern house built in 2013.  Spectacular s...</td>\n",
       "      <td>Our house is modern, light and fresh with a wa...</td>\n",
       "      <td>New modern house built in 2013.  Spectacular s...</td>\n",
       "      <td>none</td>\n",
       "      <td>Upper Queen Anne is a charming neighborhood fu...</td>\n",
       "      <td>...</td>\n",
       "      <td>10.0</td>\n",
       "      <td>f</td>\n",
       "      <td>NaN</td>\n",
       "      <td>WASHINGTON</td>\n",
       "      <td>f</td>\n",
       "      <td>strict</td>\n",
       "      <td>f</td>\n",
       "      <td>f</td>\n",
       "      <td>2</td>\n",
       "      <td>1.15</td>\n",
       "    </tr>\n",
       "  </tbody>\n",
       "</table>\n",
       "<p>3 rows × 92 columns</p>\n",
       "</div>"
      ],
      "text/plain": [
       "        id                           listing_url       scrape_id last_scraped  \\\n",
       "0   241032   https://www.airbnb.com/rooms/241032  20160104002432   2016-01-04   \n",
       "1   953595   https://www.airbnb.com/rooms/953595  20160104002432   2016-01-04   \n",
       "2  3308979  https://www.airbnb.com/rooms/3308979  20160104002432   2016-01-04   \n",
       "\n",
       "                                  name  \\\n",
       "0         Stylish Queen Anne Apartment   \n",
       "1   Bright & Airy Queen Anne Apartment   \n",
       "2  New Modern House-Amazing water view   \n",
       "\n",
       "                                             summary  \\\n",
       "0                                                NaN   \n",
       "1  Chemically sensitive? We've removed the irrita...   \n",
       "2  New modern house built in 2013.  Spectacular s...   \n",
       "\n",
       "                                               space  \\\n",
       "0  Make your self at home in this charming one-be...   \n",
       "1  Beautiful, hypoallergenic apartment in an extr...   \n",
       "2  Our house is modern, light and fresh with a wa...   \n",
       "\n",
       "                                         description experiences_offered  \\\n",
       "0  Make your self at home in this charming one-be...                none   \n",
       "1  Chemically sensitive? We've removed the irrita...                none   \n",
       "2  New modern house built in 2013.  Spectacular s...                none   \n",
       "\n",
       "                               neighborhood_overview  ... review_scores_value  \\\n",
       "0                                                NaN  ...                10.0   \n",
       "1  Queen Anne is a wonderful, truly functional vi...  ...                10.0   \n",
       "2  Upper Queen Anne is a charming neighborhood fu...  ...                10.0   \n",
       "\n",
       "  requires_license license jurisdiction_names instant_bookable  \\\n",
       "0                f     NaN         WASHINGTON                f   \n",
       "1                f     NaN         WASHINGTON                f   \n",
       "2                f     NaN         WASHINGTON                f   \n",
       "\n",
       "  cancellation_policy  require_guest_profile_picture  \\\n",
       "0            moderate                              f   \n",
       "1              strict                              t   \n",
       "2              strict                              f   \n",
       "\n",
       "  require_guest_phone_verification calculated_host_listings_count  \\\n",
       "0                                f                              2   \n",
       "1                                t                              6   \n",
       "2                                f                              2   \n",
       "\n",
       "  reviews_per_month  \n",
       "0              4.07  \n",
       "1              1.48  \n",
       "2              1.15  \n",
       "\n",
       "[3 rows x 92 columns]"
      ]
     },
     "execution_count": 13,
     "metadata": {},
     "output_type": "execute_result"
    }
   ],
   "source": [
    "listings.head(3)"
   ]
  },
  {
   "cell_type": "code",
   "execution_count": 10,
   "metadata": {},
   "outputs": [
    {
     "data": {
      "text/plain": [
       "Index(['listing_id', 'date', 'available'], dtype='object')"
      ]
     },
     "execution_count": 10,
     "metadata": {},
     "output_type": "execute_result"
    }
   ],
   "source": [
    "# which columns have no missing values in calendar\n",
    "calendar.columns[calendar.notnull().all()]"
   ]
  },
  {
   "cell_type": "code",
   "execution_count": null,
   "metadata": {},
   "outputs": [],
   "source": [
    "# which columns have no missing values in calendar\n",
    "calendar.columns[calendar.notnull().all()]"
   ]
  },
  {
   "cell_type": "code",
   "execution_count": null,
   "metadata": {},
   "outputs": [],
   "source": []
  },
  {
   "cell_type": "code",
   "execution_count": 1,
   "metadata": {},
   "outputs": [
    {
     "ename": "NameError",
     "evalue": "name 'calendar' is not defined",
     "output_type": "error",
     "traceback": [
      "\u001b[1;31m---------------------------------------------------------------------------\u001b[0m",
      "\u001b[1;31mNameError\u001b[0m                                 Traceback (most recent call last)",
      "\u001b[1;32m<ipython-input-1-f76d0e85c3f5>\u001b[0m in \u001b[0;36m<module>\u001b[1;34m\u001b[0m\n\u001b[0;32m      1\u001b[0m \u001b[1;31m# which columns have no missing values\u001b[0m\u001b[1;33m\u001b[0m\u001b[1;33m\u001b[0m\u001b[1;33m\u001b[0m\u001b[0m\n\u001b[1;32m----> 2\u001b[1;33m \u001b[0mcalendar\u001b[0m\u001b[1;33m.\u001b[0m\u001b[0mlisting_id\u001b[0m\u001b[1;33m.\u001b[0m\u001b[0misnull\u001b[0m\u001b[1;33m(\u001b[0m\u001b[1;33m)\u001b[0m\u001b[1;33m.\u001b[0m\u001b[0many\u001b[0m\u001b[1;33m(\u001b[0m\u001b[1;33m)\u001b[0m\u001b[1;33m.\u001b[0m\u001b[0mcount\u001b[0m\u001b[1;33m(\u001b[0m\u001b[1;33m)\u001b[0m\u001b[1;33m\u001b[0m\u001b[1;33m\u001b[0m\u001b[0m\n\u001b[0m",
      "\u001b[1;31mNameError\u001b[0m: name 'calendar' is not defined"
     ]
    }
   ],
   "source": [
    "# which columns have no missing values\n",
    "calendar.listing_id.isnull().any().count()"
   ]
  },
  {
   "cell_type": "code",
   "execution_count": 7,
   "metadata": {},
   "outputs": [
    {
     "data": {
      "text/html": [
       "<div>\n",
       "<style scoped>\n",
       "    .dataframe tbody tr th:only-of-type {\n",
       "        vertical-align: middle;\n",
       "    }\n",
       "\n",
       "    .dataframe tbody tr th {\n",
       "        vertical-align: top;\n",
       "    }\n",
       "\n",
       "    .dataframe thead th {\n",
       "        text-align: right;\n",
       "    }\n",
       "</style>\n",
       "<table border=\"1\" class=\"dataframe\">\n",
       "  <thead>\n",
       "    <tr style=\"text-align: right;\">\n",
       "      <th></th>\n",
       "      <th>id</th>\n",
       "      <th>listing_url</th>\n",
       "      <th>scrape_id</th>\n",
       "      <th>last_scraped</th>\n",
       "      <th>name</th>\n",
       "      <th>summary</th>\n",
       "      <th>space</th>\n",
       "      <th>description</th>\n",
       "      <th>experiences_offered</th>\n",
       "      <th>neighborhood_overview</th>\n",
       "      <th>...</th>\n",
       "      <th>review_scores_value</th>\n",
       "      <th>requires_license</th>\n",
       "      <th>license</th>\n",
       "      <th>jurisdiction_names</th>\n",
       "      <th>instant_bookable</th>\n",
       "      <th>cancellation_policy</th>\n",
       "      <th>require_guest_profile_picture</th>\n",
       "      <th>require_guest_phone_verification</th>\n",
       "      <th>calculated_host_listings_count</th>\n",
       "      <th>reviews_per_month</th>\n",
       "    </tr>\n",
       "  </thead>\n",
       "  <tbody>\n",
       "    <tr>\n",
       "      <th>0</th>\n",
       "      <td>241032</td>\n",
       "      <td>https://www.airbnb.com/rooms/241032</td>\n",
       "      <td>20160104002432</td>\n",
       "      <td>2016-01-04</td>\n",
       "      <td>Stylish Queen Anne Apartment</td>\n",
       "      <td>NaN</td>\n",
       "      <td>Make your self at home in this charming one-be...</td>\n",
       "      <td>Make your self at home in this charming one-be...</td>\n",
       "      <td>none</td>\n",
       "      <td>NaN</td>\n",
       "      <td>...</td>\n",
       "      <td>10.0</td>\n",
       "      <td>f</td>\n",
       "      <td>NaN</td>\n",
       "      <td>WASHINGTON</td>\n",
       "      <td>f</td>\n",
       "      <td>moderate</td>\n",
       "      <td>f</td>\n",
       "      <td>f</td>\n",
       "      <td>2</td>\n",
       "      <td>4.07</td>\n",
       "    </tr>\n",
       "    <tr>\n",
       "      <th>1</th>\n",
       "      <td>953595</td>\n",
       "      <td>https://www.airbnb.com/rooms/953595</td>\n",
       "      <td>20160104002432</td>\n",
       "      <td>2016-01-04</td>\n",
       "      <td>Bright &amp; Airy Queen Anne Apartment</td>\n",
       "      <td>Chemically sensitive? We've removed the irrita...</td>\n",
       "      <td>Beautiful, hypoallergenic apartment in an extr...</td>\n",
       "      <td>Chemically sensitive? We've removed the irrita...</td>\n",
       "      <td>none</td>\n",
       "      <td>Queen Anne is a wonderful, truly functional vi...</td>\n",
       "      <td>...</td>\n",
       "      <td>10.0</td>\n",
       "      <td>f</td>\n",
       "      <td>NaN</td>\n",
       "      <td>WASHINGTON</td>\n",
       "      <td>f</td>\n",
       "      <td>strict</td>\n",
       "      <td>t</td>\n",
       "      <td>t</td>\n",
       "      <td>6</td>\n",
       "      <td>1.48</td>\n",
       "    </tr>\n",
       "    <tr>\n",
       "      <th>2</th>\n",
       "      <td>3308979</td>\n",
       "      <td>https://www.airbnb.com/rooms/3308979</td>\n",
       "      <td>20160104002432</td>\n",
       "      <td>2016-01-04</td>\n",
       "      <td>New Modern House-Amazing water view</td>\n",
       "      <td>New modern house built in 2013.  Spectacular s...</td>\n",
       "      <td>Our house is modern, light and fresh with a wa...</td>\n",
       "      <td>New modern house built in 2013.  Spectacular s...</td>\n",
       "      <td>none</td>\n",
       "      <td>Upper Queen Anne is a charming neighborhood fu...</td>\n",
       "      <td>...</td>\n",
       "      <td>10.0</td>\n",
       "      <td>f</td>\n",
       "      <td>NaN</td>\n",
       "      <td>WASHINGTON</td>\n",
       "      <td>f</td>\n",
       "      <td>strict</td>\n",
       "      <td>f</td>\n",
       "      <td>f</td>\n",
       "      <td>2</td>\n",
       "      <td>1.15</td>\n",
       "    </tr>\n",
       "  </tbody>\n",
       "</table>\n",
       "<p>3 rows × 92 columns</p>\n",
       "</div>"
      ],
      "text/plain": [
       "        id                           listing_url       scrape_id last_scraped  \\\n",
       "0   241032   https://www.airbnb.com/rooms/241032  20160104002432   2016-01-04   \n",
       "1   953595   https://www.airbnb.com/rooms/953595  20160104002432   2016-01-04   \n",
       "2  3308979  https://www.airbnb.com/rooms/3308979  20160104002432   2016-01-04   \n",
       "\n",
       "                                  name  \\\n",
       "0         Stylish Queen Anne Apartment   \n",
       "1   Bright & Airy Queen Anne Apartment   \n",
       "2  New Modern House-Amazing water view   \n",
       "\n",
       "                                             summary  \\\n",
       "0                                                NaN   \n",
       "1  Chemically sensitive? We've removed the irrita...   \n",
       "2  New modern house built in 2013.  Spectacular s...   \n",
       "\n",
       "                                               space  \\\n",
       "0  Make your self at home in this charming one-be...   \n",
       "1  Beautiful, hypoallergenic apartment in an extr...   \n",
       "2  Our house is modern, light and fresh with a wa...   \n",
       "\n",
       "                                         description experiences_offered  \\\n",
       "0  Make your self at home in this charming one-be...                none   \n",
       "1  Chemically sensitive? We've removed the irrita...                none   \n",
       "2  New modern house built in 2013.  Spectacular s...                none   \n",
       "\n",
       "                               neighborhood_overview  ... review_scores_value  \\\n",
       "0                                                NaN  ...                10.0   \n",
       "1  Queen Anne is a wonderful, truly functional vi...  ...                10.0   \n",
       "2  Upper Queen Anne is a charming neighborhood fu...  ...                10.0   \n",
       "\n",
       "  requires_license license jurisdiction_names instant_bookable  \\\n",
       "0                f     NaN         WASHINGTON                f   \n",
       "1                f     NaN         WASHINGTON                f   \n",
       "2                f     NaN         WASHINGTON                f   \n",
       "\n",
       "  cancellation_policy  require_guest_profile_picture  \\\n",
       "0            moderate                              f   \n",
       "1              strict                              t   \n",
       "2              strict                              f   \n",
       "\n",
       "  require_guest_phone_verification calculated_host_listings_count  \\\n",
       "0                                f                              2   \n",
       "1                                t                              6   \n",
       "2                                f                              2   \n",
       "\n",
       "  reviews_per_month  \n",
       "0              4.07  \n",
       "1              1.48  \n",
       "2              1.15  \n",
       "\n",
       "[3 rows x 92 columns]"
      ]
     },
     "execution_count": 7,
     "metadata": {},
     "output_type": "execute_result"
    }
   ],
   "source": [
    "listings.head(3)"
   ]
  },
  {
   "cell_type": "code",
   "execution_count": 8,
   "metadata": {},
   "outputs": [
    {
     "data": {
      "text/html": [
       "<div>\n",
       "<style scoped>\n",
       "    .dataframe tbody tr th:only-of-type {\n",
       "        vertical-align: middle;\n",
       "    }\n",
       "\n",
       "    .dataframe tbody tr th {\n",
       "        vertical-align: top;\n",
       "    }\n",
       "\n",
       "    .dataframe thead th {\n",
       "        text-align: right;\n",
       "    }\n",
       "</style>\n",
       "<table border=\"1\" class=\"dataframe\">\n",
       "  <thead>\n",
       "    <tr style=\"text-align: right;\">\n",
       "      <th></th>\n",
       "      <th>listing_id</th>\n",
       "      <th>id</th>\n",
       "      <th>date</th>\n",
       "      <th>reviewer_id</th>\n",
       "      <th>reviewer_name</th>\n",
       "      <th>comments</th>\n",
       "    </tr>\n",
       "  </thead>\n",
       "  <tbody>\n",
       "    <tr>\n",
       "      <th>0</th>\n",
       "      <td>7202016</td>\n",
       "      <td>38917982</td>\n",
       "      <td>2015-07-19</td>\n",
       "      <td>28943674</td>\n",
       "      <td>Bianca</td>\n",
       "      <td>Cute and cozy place. Perfect location to every...</td>\n",
       "    </tr>\n",
       "    <tr>\n",
       "      <th>1</th>\n",
       "      <td>7202016</td>\n",
       "      <td>39087409</td>\n",
       "      <td>2015-07-20</td>\n",
       "      <td>32440555</td>\n",
       "      <td>Frank</td>\n",
       "      <td>Kelly has a great room in a very central locat...</td>\n",
       "    </tr>\n",
       "    <tr>\n",
       "      <th>2</th>\n",
       "      <td>7202016</td>\n",
       "      <td>39820030</td>\n",
       "      <td>2015-07-26</td>\n",
       "      <td>37722850</td>\n",
       "      <td>Ian</td>\n",
       "      <td>Very spacious apartment, and in a great neighb...</td>\n",
       "    </tr>\n",
       "  </tbody>\n",
       "</table>\n",
       "</div>"
      ],
      "text/plain": [
       "   listing_id        id        date  reviewer_id reviewer_name  \\\n",
       "0     7202016  38917982  2015-07-19     28943674        Bianca   \n",
       "1     7202016  39087409  2015-07-20     32440555         Frank   \n",
       "2     7202016  39820030  2015-07-26     37722850           Ian   \n",
       "\n",
       "                                            comments  \n",
       "0  Cute and cozy place. Perfect location to every...  \n",
       "1  Kelly has a great room in a very central locat...  \n",
       "2  Very spacious apartment, and in a great neighb...  "
      ]
     },
     "execution_count": 8,
     "metadata": {},
     "output_type": "execute_result"
    }
   ],
   "source": [
    "reviews.head(3)"
   ]
  },
  {
   "cell_type": "code",
   "execution_count": 10,
   "metadata": {},
   "outputs": [
    {
     "ename": "AttributeError",
     "evalue": "'DataFrame' object has no attribute 'value_counts'",
     "output_type": "error",
     "traceback": [
      "\u001b[1;31m---------------------------------------------------------------------------\u001b[0m",
      "\u001b[1;31mAttributeError\u001b[0m                            Traceback (most recent call last)",
      "\u001b[1;32m<ipython-input-10-b2e01ab6d115>\u001b[0m in \u001b[0;36m<module>\u001b[1;34m\u001b[0m\n\u001b[0;32m      1\u001b[0m \u001b[1;31m# first check the missing values\u001b[0m\u001b[1;33m\u001b[0m\u001b[1;33m\u001b[0m\u001b[1;33m\u001b[0m\u001b[0m\n\u001b[1;32m----> 2\u001b[1;33m \u001b[0mcalendar\u001b[0m\u001b[1;33m.\u001b[0m\u001b[0misna\u001b[0m\u001b[1;33m(\u001b[0m\u001b[1;33m)\u001b[0m\u001b[1;33m.\u001b[0m\u001b[0mvalue_counts\u001b[0m\u001b[1;33m(\u001b[0m\u001b[1;33m)\u001b[0m\u001b[1;33m\u001b[0m\u001b[1;33m\u001b[0m\u001b[0m\n\u001b[0m",
      "\u001b[1;32mE:\\anaconda\\lib\\site-packages\\pandas\\core\\generic.py\u001b[0m in \u001b[0;36m__getattr__\u001b[1;34m(self, name)\u001b[0m\n\u001b[0;32m   5272\u001b[0m             \u001b[1;32mif\u001b[0m \u001b[0mself\u001b[0m\u001b[1;33m.\u001b[0m\u001b[0m_info_axis\u001b[0m\u001b[1;33m.\u001b[0m\u001b[0m_can_hold_identifiers_and_holds_name\u001b[0m\u001b[1;33m(\u001b[0m\u001b[0mname\u001b[0m\u001b[1;33m)\u001b[0m\u001b[1;33m:\u001b[0m\u001b[1;33m\u001b[0m\u001b[1;33m\u001b[0m\u001b[0m\n\u001b[0;32m   5273\u001b[0m                 \u001b[1;32mreturn\u001b[0m \u001b[0mself\u001b[0m\u001b[1;33m[\u001b[0m\u001b[0mname\u001b[0m\u001b[1;33m]\u001b[0m\u001b[1;33m\u001b[0m\u001b[1;33m\u001b[0m\u001b[0m\n\u001b[1;32m-> 5274\u001b[1;33m             \u001b[1;32mreturn\u001b[0m \u001b[0mobject\u001b[0m\u001b[1;33m.\u001b[0m\u001b[0m__getattribute__\u001b[0m\u001b[1;33m(\u001b[0m\u001b[0mself\u001b[0m\u001b[1;33m,\u001b[0m \u001b[0mname\u001b[0m\u001b[1;33m)\u001b[0m\u001b[1;33m\u001b[0m\u001b[1;33m\u001b[0m\u001b[0m\n\u001b[0m\u001b[0;32m   5275\u001b[0m \u001b[1;33m\u001b[0m\u001b[0m\n\u001b[0;32m   5276\u001b[0m     \u001b[1;32mdef\u001b[0m \u001b[0m__setattr__\u001b[0m\u001b[1;33m(\u001b[0m\u001b[0mself\u001b[0m\u001b[1;33m,\u001b[0m \u001b[0mname\u001b[0m\u001b[1;33m:\u001b[0m \u001b[0mstr\u001b[0m\u001b[1;33m,\u001b[0m \u001b[0mvalue\u001b[0m\u001b[1;33m)\u001b[0m \u001b[1;33m->\u001b[0m \u001b[1;32mNone\u001b[0m\u001b[1;33m:\u001b[0m\u001b[1;33m\u001b[0m\u001b[1;33m\u001b[0m\u001b[0m\n",
      "\u001b[1;31mAttributeError\u001b[0m: 'DataFrame' object has no attribute 'value_counts'"
     ]
    }
   ],
   "source": [
    "# first check the missing values\n",
    "calendar.isna().value_counts()"
   ]
  },
  {
   "cell_type": "code",
   "execution_count": 143,
   "metadata": {},
   "outputs": [
    {
     "data": {
      "text/html": [
       "<div>\n",
       "<style scoped>\n",
       "    .dataframe tbody tr th:only-of-type {\n",
       "        vertical-align: middle;\n",
       "    }\n",
       "\n",
       "    .dataframe tbody tr th {\n",
       "        vertical-align: top;\n",
       "    }\n",
       "\n",
       "    .dataframe thead th {\n",
       "        text-align: right;\n",
       "    }\n",
       "</style>\n",
       "<table border=\"1\" class=\"dataframe\">\n",
       "  <thead>\n",
       "    <tr style=\"text-align: right;\">\n",
       "      <th></th>\n",
       "      <th>Column</th>\n",
       "      <th>Question</th>\n",
       "    </tr>\n",
       "  </thead>\n",
       "  <tbody>\n",
       "    <tr>\n",
       "      <th>1</th>\n",
       "      <td>Professional</td>\n",
       "      <td>Which of the following best describes you?</td>\n",
       "    </tr>\n",
       "  </tbody>\n",
       "</table>\n",
       "</div>"
      ],
      "text/plain": [
       "         Column                                    Question\n",
       "1  Professional  Which of the following best describes you?"
      ]
     },
     "execution_count": 143,
     "metadata": {},
     "output_type": "execute_result"
    }
   ],
   "source": [
    "df2[df2['Column']=='Professional']"
   ]
  },
  {
   "cell_type": "code",
   "execution_count": 180,
   "metadata": {},
   "outputs": [
    {
     "data": {
      "text/plain": [
       "'Respondent ID number'"
      ]
     },
     "execution_count": 180,
     "metadata": {},
     "output_type": "execute_result"
    }
   ],
   "source": [
    "def get_description(column_name, schema=schema):\n",
    "    '''\n",
    "    INPUT - schema - pandas dataframe with the schema of the developers survey\n",
    "            column_name - string - the name of the column you would like to know about\n",
    "    OUTPUT - \n",
    "            desc - string - the description of the column\n",
    "    '''\n",
    "    desc = list(schema[schema['Column']==column_name]['Question'])[0]\n",
    "    return desc\n",
    "\n",
    "#test your code\n",
    "#Check your function against solution - you shouldn't need to change any of the below code\n",
    "get_description(df.columns[0]) # This should return a string of the first column description"
   ]
  },
  {
   "cell_type": "code",
   "execution_count": 181,
   "metadata": {},
   "outputs": [
    {
     "data": {
      "text/plain": [
       "\"Let's pretend you have a distant cousin. They are 24 years old, have a college degree in a field not related to computer programming, and have been working a non-coding job for the last two years. They want your advice on how to switch to a career as a software developer. Which of the following options would you most strongly recommend to your cousin?\\nLet's pretend you have a distant cousin named Robert. He is 24 years old, has a college degree in a field not related to computer programming, and has been working a non-coding job for the last two years. He wants your advice on how to switch to a career as a software developer. Which of the following options would you most strongly recommend to Robert?\\nLet's pretend you have a distant cousin named Alice. She is 24 years old, has a college degree in a field not related to computer programming, and has been working a non-coding job for the last two years. She wants your advice on how to switch to a career as a software developer. Which of the following options would you most strongly recommend to Alice?\""
      ]
     },
     "execution_count": 181,
     "metadata": {},
     "output_type": "execute_result"
    }
   ],
   "source": [
    "get_description('CousinEducation')"
   ]
  },
  {
   "cell_type": "code",
   "execution_count": 175,
   "metadata": {},
   "outputs": [
    {
     "data": {
      "text/plain": [
       "Take online courses; Buy books and work through the exercises                                         711\n",
       "Take online courses                                                                                   551\n",
       "None of these                                                                                         523\n",
       "Take online courses; Part-time/evening courses; Buy books and work through the exercises              479\n",
       "Take online courses; Bootcamp; Part-time/evening courses; Buy books and work through the exercises    465\n",
       "                                                                                                     ... \n",
       "Return to college; Participate in hackathons; Conferences/meet-ups; Other                               1\n",
       "Master's degree; Take online courses; Bootcamp; Other                                                   1\n",
       "Master's degree; Participate in hackathons; Participate in online coding competitions; Other            1\n",
       "Return to college; Contribute to open source; Participate in online coding competitions; Other          1\n",
       "Master's degree; Get a job as a QA tester; Bootcamp; Participate in hackathons                          1\n",
       "Name: CousinEducation, Length: 735, dtype: int64"
      ]
     },
     "execution_count": 175,
     "metadata": {},
     "output_type": "execute_result"
    }
   ],
   "source": [
    "df['CousinEducation'].value_counts()"
   ]
  },
  {
   "cell_type": "code",
   "execution_count": 49,
   "metadata": {},
   "outputs": [],
   "source": [
    "df=results"
   ]
  },
  {
   "cell_type": "code",
   "execution_count": 63,
   "metadata": {},
   "outputs": [
    {
     "data": {
      "text/plain": [
       "['Respondent',\n",
       " 'Professional',\n",
       " 'ProgramHobby',\n",
       " 'Country',\n",
       " 'University',\n",
       " 'EmploymentStatus',\n",
       " 'FormalEducation']"
      ]
     },
     "execution_count": 63,
     "metadata": {},
     "output_type": "execute_result"
    }
   ],
   "source": [
    "df.columns[df.notnull().all()].tolist()"
   ]
  },
  {
   "cell_type": "code",
   "execution_count": 67,
   "metadata": {},
   "outputs": [
    {
     "data": {
      "text/plain": [
       "7"
      ]
     },
     "execution_count": 67,
     "metadata": {},
     "output_type": "execute_result"
    }
   ],
   "source": [
    "df.notnull().all().sum()"
   ]
  },
  {
   "cell_type": "code",
   "execution_count": 83,
   "metadata": {},
   "outputs": [
    {
     "data": {
      "text/plain": [
       "(51392, 154)"
      ]
     },
     "execution_count": 83,
     "metadata": {},
     "output_type": "execute_result"
    }
   ],
   "source": [
    "df.shape"
   ]
  },
  {
   "cell_type": "code",
   "execution_count": 85,
   "metadata": {},
   "outputs": [
    {
     "data": {
      "text/plain": [
       "array([    0,     0,     0,     0,     0,     0,     0,  8551,  7384,\n",
       "       12470, 12569,   247, 10502, 50418, 15267, 40696, 49839, 46502,\n",
       "        8697, 11016, 50469, 50471, 50469, 50475, 50464, 50457, 50470,\n",
       "       50462,   384, 20099, 20158, 20088, 20208, 20152, 20489, 20371,\n",
       "       20335, 20408, 20345, 20378, 20506, 20427, 20690, 20421, 20582,\n",
       "       20457, 18012, 30792, 18682, 29262, 29245, 29256, 29269, 29203,\n",
       "       29209, 29246, 29388, 29419, 29372, 29406, 29394, 29414, 29395,\n",
       "       29369, 21157,  9346, 26673, 28931, 27655, 22750, 22698, 22753,\n",
       "       22796, 22775, 22839, 22839, 22729, 22774, 22847, 29984, 38005,\n",
       "       12541, 28037, 21038, 24657, 48790, 27824, 14696, 14767, 17621,\n",
       "       31163, 28061, 21940, 26283, 22278, 23508, 15562, 14935, 25621,\n",
       "       20662, 21831, 21751, 21773, 21993, 21627, 22042, 21752, 21935,\n",
       "       25920, 21667, 21665, 21656, 21721, 21703, 21701, 29734, 29733,\n",
       "       29808, 29791, 29799, 29779, 29776, 29797, 29847, 29806, 29814,\n",
       "       14460, 14800, 16189, 17102, 17483, 17924, 17957, 17977, 17774,\n",
       "       17836, 17985, 20575, 19655, 21263, 18982, 17446, 17742, 18023,\n",
       "       20330, 16345, 16454, 18359, 16672, 16856, 16973, 16780, 38501,\n",
       "       48826], dtype=int64)"
      ]
     },
     "execution_count": 85,
     "metadata": {},
     "output_type": "execute_result"
    }
   ],
   "source": [
    "results.isnull().sum().values"
   ]
  },
  {
   "cell_type": "code",
   "execution_count": 89,
   "metadata": {},
   "outputs": [
    {
     "data": {
      "text/plain": [
       "{'Country',\n",
       " 'EmploymentStatus',\n",
       " 'FormalEducation',\n",
       " 'Professional',\n",
       " 'ProgramHobby',\n",
       " 'Respondent',\n",
       " 'University'}"
      ]
     },
     "execution_count": 89,
     "metadata": {},
     "output_type": "execute_result"
    }
   ],
   "source": [
    "set(df.columns[df.notnull().all()])"
   ]
  },
  {
   "cell_type": "code",
   "execution_count": 77,
   "metadata": {},
   "outputs": [
    {
     "data": {
      "text/plain": [
       "array([False, False, False, False, False, False, False, False, False,\n",
       "       False, False, False, False,  True, False,  True,  True,  True,\n",
       "       False, False,  True,  True,  True,  True,  True,  True,  True,\n",
       "        True, False, False, False, False, False, False, False, False,\n",
       "       False, False, False, False, False, False, False, False, False,\n",
       "       False, False, False, False, False, False, False, False, False,\n",
       "       False, False, False, False, False, False, False, False, False,\n",
       "       False, False, False, False, False, False, False, False, False,\n",
       "       False, False, False, False, False, False, False, False, False,\n",
       "       False, False, False, False,  True, False, False, False, False,\n",
       "       False, False, False, False, False, False, False, False, False,\n",
       "       False, False, False, False, False, False, False, False, False,\n",
       "       False, False, False, False, False, False, False, False, False,\n",
       "       False, False, False, False, False, False, False, False, False,\n",
       "       False, False, False, False, False, False, False, False, False,\n",
       "       False, False, False, False, False, False, False, False, False,\n",
       "       False, False, False, False, False, False, False, False, False,\n",
       "        True])"
      ]
     },
     "execution_count": 77,
     "metadata": {},
     "output_type": "execute_result"
    }
   ],
   "source": [
    "results.isnull().sum().values>=75/100*51392"
   ]
  },
  {
   "cell_type": "code",
   "execution_count": 92,
   "metadata": {},
   "outputs": [
    {
     "data": {
      "text/plain": [
       "{'ExCoder10Years',\n",
       " 'ExCoderActive',\n",
       " 'ExCoderBalance',\n",
       " 'ExCoderBelonged',\n",
       " 'ExCoderNotForMe',\n",
       " 'ExCoderReturn',\n",
       " 'ExCoderSkills',\n",
       " 'ExCoderWillNotCode',\n",
       " 'ExpectedSalary',\n",
       " 'MobileDeveloperType',\n",
       " 'NonDeveloperType',\n",
       " 'TimeAfterBootcamp',\n",
       " 'WebDeveloperType',\n",
       " 'YearsCodedJobPast'}"
      ]
     },
     "execution_count": 92,
     "metadata": {},
     "output_type": "execute_result"
    }
   ],
   "source": [
    "set(df.columns[df.isnull().sum().values>=75/100*51392])"
   ]
  },
  {
   "cell_type": "code",
   "execution_count": 95,
   "metadata": {},
   "outputs": [
    {
     "data": {
      "text/plain": [
       "True"
      ]
     },
     "execution_count": 95,
     "metadata": {},
     "output_type": "execute_result"
    }
   ],
   "source": [
    "set(df.columns[df.isnull().mean()>=0.75]) ==set(df.columns[df.isnull().sum().values>=75/100*51392])"
   ]
  },
  {
   "cell_type": "code",
   "execution_count": 90,
   "metadata": {},
   "outputs": [
    {
     "data": {
      "text/plain": [
       "{'ExCoder10Years',\n",
       " 'ExCoderActive',\n",
       " 'ExCoderBalance',\n",
       " 'ExCoderBelonged',\n",
       " 'ExCoderNotForMe',\n",
       " 'ExCoderReturn',\n",
       " 'ExCoderSkills',\n",
       " 'ExCoderWillNotCode',\n",
       " 'ExpectedSalary',\n",
       " 'MobileDeveloperType',\n",
       " 'NonDeveloperType',\n",
       " 'TimeAfterBootcamp',\n",
       " 'WebDeveloperType',\n",
       " 'YearsCodedJobPast'}"
      ]
     },
     "execution_count": 90,
     "metadata": {},
     "output_type": "execute_result"
    }
   ],
   "source": [
    "set(df.columns[df.isnull().mean() > 0.75])"
   ]
  },
  {
   "cell_type": "code",
   "execution_count": 103,
   "metadata": {},
   "outputs": [],
   "source": [
    "import matplotlib.pyplot as plt"
   ]
  },
  {
   "cell_type": "code",
   "execution_count": 112,
   "metadata": {},
   "outputs": [
    {
     "data": {
      "text/plain": [
       "Professional developer                                  36131\n",
       "Student                                                  8224\n",
       "Professional non-developer who sometimes writes code     5140\n",
       "Used to be a professional developer                       983\n",
       "None of these                                             914\n",
       "Name: Professional, dtype: int64"
      ]
     },
     "execution_count": 112,
     "metadata": {},
     "output_type": "execute_result"
    }
   ],
   "source": [
    "df['Professional'].value_counts()"
   ]
  },
  {
   "cell_type": "code",
   "execution_count": 113,
   "metadata": {},
   "outputs": [
    {
     "data": {
      "text/plain": [
       "<matplotlib.axes._subplots.AxesSubplot at 0x2210e720100>"
      ]
     },
     "execution_count": 113,
     "metadata": {},
     "output_type": "execute_result"
    },
    {
     "data": {
      "image/png": "[encoded data removed]",
      "text/plain": [
       "<Figure size 432x288 with 1 Axes>"
      ]
     },
     "metadata": {
      "needs_background": "light"
     },
     "output_type": "display_data"
    }
   ],
   "source": [
    "(df['Professional'].value_counts()/df.shape[0]).plot(kind='bar')"
   ]
  },
  {
   "cell_type": "code",
   "execution_count": 114,
   "metadata": {
    "scrolled": true
   },
   "outputs": [
    {
     "data": {
      "text/html": [
       "<div>\n",
       "<style scoped>\n",
       "    .dataframe tbody tr th:only-of-type {\n",
       "        vertical-align: middle;\n",
       "    }\n",
       "\n",
       "    .dataframe tbody tr th {\n",
       "        vertical-align: top;\n",
       "    }\n",
       "\n",
       "    .dataframe thead th {\n",
       "        text-align: right;\n",
       "    }\n",
       "</style>\n",
       "<table border=\"1\" class=\"dataframe\">\n",
       "  <thead>\n",
       "    <tr style=\"text-align: right;\">\n",
       "      <th></th>\n",
       "      <th>Respondent</th>\n",
       "      <th>Professional</th>\n",
       "      <th>ProgramHobby</th>\n",
       "      <th>Country</th>\n",
       "      <th>University</th>\n",
       "      <th>EmploymentStatus</th>\n",
       "      <th>FormalEducation</th>\n",
       "      <th>MajorUndergrad</th>\n",
       "      <th>HomeRemote</th>\n",
       "      <th>CompanySize</th>\n",
       "      <th>...</th>\n",
       "      <th>StackOverflowMakeMoney</th>\n",
       "      <th>Gender</th>\n",
       "      <th>HighestEducationParents</th>\n",
       "      <th>Race</th>\n",
       "      <th>SurveyLong</th>\n",
       "      <th>QuestionsInteresting</th>\n",
       "      <th>QuestionsConfusing</th>\n",
       "      <th>InterestedAnswers</th>\n",
       "      <th>Salary</th>\n",
       "      <th>ExpectedSalary</th>\n",
       "    </tr>\n",
       "  </thead>\n",
       "  <tbody>\n",
       "    <tr>\n",
       "      <th>0</th>\n",
       "      <td>1</td>\n",
       "      <td>Student</td>\n",
       "      <td>Yes, both</td>\n",
       "      <td>United States</td>\n",
       "      <td>No</td>\n",
       "      <td>Not employed, and not looking for work</td>\n",
       "      <td>Secondary school</td>\n",
       "      <td>NaN</td>\n",
       "      <td>NaN</td>\n",
       "      <td>NaN</td>\n",
       "      <td>...</td>\n",
       "      <td>Strongly disagree</td>\n",
       "      <td>Male</td>\n",
       "      <td>High school</td>\n",
       "      <td>White or of European descent</td>\n",
       "      <td>Strongly disagree</td>\n",
       "      <td>Strongly agree</td>\n",
       "      <td>Disagree</td>\n",
       "      <td>Strongly agree</td>\n",
       "      <td>NaN</td>\n",
       "      <td>NaN</td>\n",
       "    </tr>\n",
       "    <tr>\n",
       "      <th>1</th>\n",
       "      <td>2</td>\n",
       "      <td>Student</td>\n",
       "      <td>Yes, both</td>\n",
       "      <td>United Kingdom</td>\n",
       "      <td>Yes, full-time</td>\n",
       "      <td>Employed part-time</td>\n",
       "      <td>Some college/university study without earning ...</td>\n",
       "      <td>Computer science or software engineering</td>\n",
       "      <td>More than half, but not all, the time</td>\n",
       "      <td>20 to 99 employees</td>\n",
       "      <td>...</td>\n",
       "      <td>Strongly disagree</td>\n",
       "      <td>Male</td>\n",
       "      <td>A master's degree</td>\n",
       "      <td>White or of European descent</td>\n",
       "      <td>Somewhat agree</td>\n",
       "      <td>Somewhat agree</td>\n",
       "      <td>Disagree</td>\n",
       "      <td>Strongly agree</td>\n",
       "      <td>NaN</td>\n",
       "      <td>37500.0</td>\n",
       "    </tr>\n",
       "  </tbody>\n",
       "</table>\n",
       "<p>2 rows × 154 columns</p>\n",
       "</div>"
      ],
      "text/plain": [
       "   Respondent Professional ProgramHobby         Country      University  \\\n",
       "0           1      Student    Yes, both   United States              No   \n",
       "1           2      Student    Yes, both  United Kingdom  Yes, full-time   \n",
       "\n",
       "                         EmploymentStatus  \\\n",
       "0  Not employed, and not looking for work   \n",
       "1                      Employed part-time   \n",
       "\n",
       "                                     FormalEducation  \\\n",
       "0                                   Secondary school   \n",
       "1  Some college/university study without earning ...   \n",
       "\n",
       "                             MajorUndergrad  \\\n",
       "0                                       NaN   \n",
       "1  Computer science or software engineering   \n",
       "\n",
       "                              HomeRemote         CompanySize  ...  \\\n",
       "0                                    NaN                 NaN  ...   \n",
       "1  More than half, but not all, the time  20 to 99 employees  ...   \n",
       "\n",
       "  StackOverflowMakeMoney Gender HighestEducationParents  \\\n",
       "0      Strongly disagree   Male             High school   \n",
       "1      Strongly disagree   Male       A master's degree   \n",
       "\n",
       "                           Race         SurveyLong QuestionsInteresting  \\\n",
       "0  White or of European descent  Strongly disagree       Strongly agree   \n",
       "1  White or of European descent     Somewhat agree       Somewhat agree   \n",
       "\n",
       "  QuestionsConfusing InterestedAnswers  Salary  ExpectedSalary  \n",
       "0           Disagree    Strongly agree     NaN             NaN  \n",
       "1           Disagree    Strongly agree     NaN         37500.0  \n",
       "\n",
       "[2 rows x 154 columns]"
      ]
     },
     "execution_count": 114,
     "metadata": {},
     "output_type": "execute_result"
    }
   ],
   "source": [
    "df.head(2)"
   ]
  },
  {
   "cell_type": "code",
   "execution_count": 116,
   "metadata": {},
   "outputs": [
    {
     "data": {
      "text/plain": [
       "United States                     11455\n",
       "India                              5197\n",
       "United Kingdom                     4395\n",
       "Germany                            4143\n",
       "Canada                             2233\n",
       "                                  ...  \n",
       "Monaco                                1\n",
       "Guam                                  1\n",
       "Mali                                  1\n",
       "S. Georgia & S. Sandwich Isls.        1\n",
       "Guinea                                1\n",
       "Name: Country, Length: 201, dtype: int64"
      ]
     },
     "execution_count": 116,
     "metadata": {},
     "output_type": "execute_result"
    }
   ],
   "source": [
    "df['Country'].value_counts()"
   ]
  },
  {
   "cell_type": "code",
   "execution_count": 61,
   "metadata": {},
   "outputs": [
    {
     "data": {
      "text/plain": [
       "['Respondent',\n",
       " 'Professional',\n",
       " 'ProgramHobby',\n",
       " 'Country',\n",
       " 'University',\n",
       " 'EmploymentStatus',\n",
       " 'FormalEducation']"
      ]
     },
     "execution_count": 61,
     "metadata": {},
     "output_type": "execute_result"
    }
   ],
   "source": [
    "df[[col for col in df.columns if df[col].notnull().all()]].columns"
   ]
  },
  {
   "cell_type": "code",
   "execution_count": 29,
   "metadata": {},
   "outputs": [
    {
     "data": {
      "text/plain": [
       "154"
      ]
     },
     "execution_count": 29,
     "metadata": {},
     "output_type": "execute_result"
    }
   ],
   "source": [
    "pd.notnull(results).any().count()"
   ]
  },
  {
   "cell_type": "code",
   "execution_count": 31,
   "metadata": {},
   "outputs": [],
   "source": [
    "booll=pd.notnull(results)"
   ]
  },
  {
   "cell_type": "code",
   "execution_count": 35,
   "metadata": {},
   "outputs": [
    {
     "data": {
      "text/plain": [
       "Index(['Respondent', 'Professional', 'ProgramHobby', 'Country', 'University',\n",
       "       'EmploymentStatus', 'FormalEducation', 'MajorUndergrad', 'HomeRemote',\n",
       "       'CompanySize',\n",
       "       ...\n",
       "       'StackOverflowMakeMoney', 'Gender', 'HighestEducationParents', 'Race',\n",
       "       'SurveyLong', 'QuestionsInteresting', 'QuestionsConfusing',\n",
       "       'InterestedAnswers', 'Salary', 'ExpectedSalary'],\n",
       "      dtype='object', length=154)"
      ]
     },
     "execution_count": 35,
     "metadata": {},
     "output_type": "execute_result"
    }
   ],
   "source": [
    "results.columns[results.notnull().any()]"
   ]
  },
  {
   "cell_type": "code",
   "execution_count": null,
   "metadata": {},
   "outputs": [],
   "source": []
  }
 ],
 "metadata": {
  "kernelspec": {
   "name": "python3",
   "display_name": "Python 3.8.3 64-bit ('base': conda)"
  },
  "language_info": {
   "codemirror_mode": {
    "name": "ipython",
    "version": 3
   },
   "file_extension": ".py",
   "mimetype": "text/x-python",
   "name": "python",
   "nbconvert_exporter": "python",
   "pygments_lexer": "ipython3",
   "version": "3.8.3"
  },
  "interpreter": {
   "hash": "8d86c190dfcadcdaa67edec4a1ea82702241987b5b1f320c920d3d4ca36fee5b"
  }
 },
 "nbformat": 4,
 "nbformat_minor": 4
}